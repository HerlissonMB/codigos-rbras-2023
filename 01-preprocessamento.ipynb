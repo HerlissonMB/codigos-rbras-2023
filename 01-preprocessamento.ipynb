{
 "cells": [
  {
   "cell_type": "code",
   "execution_count": 1,
   "id": "496aa20b-7bc5-4dc3-b4d8-b31e084bfb24",
   "metadata": {},
   "outputs": [],
   "source": [
    "import pandas as pd\n",
    "import numpy as np\n",
    "import matplotlib.pyplot as plt\n",
    "import seaborn as sns"
   ]
  },
  {
   "cell_type": "code",
   "execution_count": 12,
   "id": "214ba3f8-7f52-4611-9ea7-d9a96da14a93",
   "metadata": {},
   "outputs": [],
   "source": [
    "dados_originais = pd.read_csv(\"C:\\\\Users\\\\herli\\\\Documents\\\\RBRAS 2023\\\\trabalho\\\\TG\\\\Dados\\\\DADOS_ORIGINAIS.TXT\" , sep='\\t')"
   ]
  },
  {
   "cell_type": "code",
   "execution_count": 13,
   "id": "65a5b6b5-e7db-4102-9c9c-131dbdae5191",
   "metadata": {},
   "outputs": [
    {
     "data": {
      "text/html": [
       "<div>\n",
       "<style scoped>\n",
       "    .dataframe tbody tr th:only-of-type {\n",
       "        vertical-align: middle;\n",
       "    }\n",
       "\n",
       "    .dataframe tbody tr th {\n",
       "        vertical-align: top;\n",
       "    }\n",
       "\n",
       "    .dataframe thead th {\n",
       "        text-align: right;\n",
       "    }\n",
       "</style>\n",
       "<table border=\"1\" class=\"dataframe\">\n",
       "  <thead>\n",
       "    <tr style=\"text-align: right;\">\n",
       "      <th></th>\n",
       "      <th>DTATUAL</th>\n",
       "      <th>TPCLIENT</th>\n",
       "      <th>LOCALIZA</th>\n",
       "      <th>TPEMPREG</th>\n",
       "      <th>SEXO</th>\n",
       "      <th>DTNASCI</th>\n",
       "      <th>ESTCIVIL</th>\n",
       "      <th>SITRESID</th>\n",
       "      <th>LIMITE</th>\n",
       "      <th>TEMPORES</th>\n",
       "      <th>REGIAO</th>\n",
       "      <th>CEP</th>\n",
       "      <th>PROFISSAO</th>\n",
       "      <th>MAU</th>\n",
       "      <th>TEMPO</th>\n",
       "    </tr>\n",
       "  </thead>\n",
       "  <tbody>\n",
       "    <tr>\n",
       "      <th>0</th>\n",
       "      <td>150103</td>\n",
       "      <td>2</td>\n",
       "      <td>86</td>\n",
       "      <td>0</td>\n",
       "      <td>F</td>\n",
       "      <td>211077</td>\n",
       "      <td>S</td>\n",
       "      <td>P</td>\n",
       "      <td>65</td>\n",
       "      <td>1</td>\n",
       "      <td>5</td>\n",
       "      <td>4</td>\n",
       "      <td>1</td>\n",
       "      <td>0</td>\n",
       "      <td>12</td>\n",
       "    </tr>\n",
       "    <tr>\n",
       "      <th>1</th>\n",
       "      <td>200103</td>\n",
       "      <td>2</td>\n",
       "      <td>323</td>\n",
       "      <td>19</td>\n",
       "      <td>M</td>\n",
       "      <td>241280</td>\n",
       "      <td>S</td>\n",
       "      <td>P</td>\n",
       "      <td>70</td>\n",
       "      <td>21</td>\n",
       "      <td>14</td>\n",
       "      <td>93</td>\n",
       "      <td>50</td>\n",
       "      <td>0</td>\n",
       "      <td>12</td>\n",
       "    </tr>\n",
       "    <tr>\n",
       "      <th>2</th>\n",
       "      <td>200103</td>\n",
       "      <td>1</td>\n",
       "      <td>323</td>\n",
       "      <td>80</td>\n",
       "      <td>F</td>\n",
       "      <td>41078</td>\n",
       "      <td>S</td>\n",
       "      <td>P</td>\n",
       "      <td>112</td>\n",
       "      <td>10</td>\n",
       "      <td>14</td>\n",
       "      <td>94</td>\n",
       "      <td>3</td>\n",
       "      <td>1</td>\n",
       "      <td>12</td>\n",
       "    </tr>\n",
       "    <tr>\n",
       "      <th>3</th>\n",
       "      <td>210103</td>\n",
       "      <td>1</td>\n",
       "      <td>323</td>\n",
       "      <td>226</td>\n",
       "      <td>F</td>\n",
       "      <td>121238</td>\n",
       "      <td>V</td>\n",
       "      <td>P</td>\n",
       "      <td>65</td>\n",
       "      <td>18</td>\n",
       "      <td>14</td>\n",
       "      <td>93</td>\n",
       "      <td>51</td>\n",
       "      <td>0</td>\n",
       "      <td>12</td>\n",
       "    </tr>\n",
       "    <tr>\n",
       "      <th>4</th>\n",
       "      <td>170103</td>\n",
       "      <td>1</td>\n",
       "      <td>323</td>\n",
       "      <td>120</td>\n",
       "      <td>F</td>\n",
       "      <td>60251</td>\n",
       "      <td>V</td>\n",
       "      <td>P</td>\n",
       "      <td>98</td>\n",
       "      <td>30</td>\n",
       "      <td>14</td>\n",
       "      <td>93</td>\n",
       "      <td>3</td>\n",
       "      <td>0</td>\n",
       "      <td>12</td>\n",
       "    </tr>\n",
       "  </tbody>\n",
       "</table>\n",
       "</div>"
      ],
      "text/plain": [
       "   DTATUAL  TPCLIENT  LOCALIZA  TPEMPREG SEXO  DTNASCI ESTCIVIL SITRESID  \\\n",
       "0   150103         2        86         0    F   211077        S        P   \n",
       "1   200103         2       323        19    M   241280        S        P   \n",
       "2   200103         1       323        80    F    41078        S        P   \n",
       "3   210103         1       323       226    F   121238        V        P   \n",
       "4   170103         1       323       120    F    60251        V        P   \n",
       "\n",
       "   LIMITE  TEMPORES  REGIAO  CEP  PROFISSAO  MAU  TEMPO  \n",
       "0      65         1       5    4          1    0     12  \n",
       "1      70        21      14   93         50    0     12  \n",
       "2     112        10      14   94          3    1     12  \n",
       "3      65        18      14   93         51    0     12  \n",
       "4      98        30      14   93          3    0     12  "
      ]
     },
     "execution_count": 13,
     "metadata": {},
     "output_type": "execute_result"
    }
   ],
   "source": [
    "dados_originais.head()"
   ]
  },
  {
   "cell_type": "code",
   "execution_count": null,
   "id": "be14edf0-7034-4c8f-938e-0be9266678d2",
   "metadata": {},
   "outputs": [],
   "source": []
  },
  {
   "cell_type": "markdown",
   "id": "b1f3e2a3-6a67-4731-960c-312b914226b5",
   "metadata": {},
   "source": [
    "O dicionário dos dados é:\n",
    "\n",
    "| Variável | Descrição |\n",
    "|----|---|\n",
    "| DTATUAL | Data da observação das variáveis |\n",
    "| TPCLIENT | Indica se é cliente há mais de um ano (dicotômica). Valores: 2=Sim, 1=Não |\n",
    "| LOCALIZA | Sem descrição disponível |\n",
    "|TPEMPREG | Tempo que o cliente está no atual emprego (em meses)|\n",
    "| SEXO | Sexo|\n",
    "| DTNASC | Data de nascimento |\n",
    "|ESTCIVIL | Estado civil|\n",
    "| SITRESID | Condição da residência: própria ou alugada |\n",
    "|LIMITE | Valor do crédito concedido (em reais) |\n",
    "|TEMPORES | Tempo de residência na casa atual (em anos) |\n",
    "| REGIAO | Sem descrição disponível |\n",
    "|CEP | Os dois primeiros dígitos do CEP |\n",
    "| PROFISSAO | Sem descricao disponível |\n",
    "|MAU | Variável resposta: 0 – bom pagador, 1 – mau pagador |\n",
    "|TEMPO | Tempo entre o pedido de empréstimo até a indadimplência |\n",
    "\n",
    "A variável TEMPO e DTATUAL não ajudam a prever se ocorrerá a perda. Assim foram descartadas.\n",
    "DTNASCI também é descartada após ser gerada a variável ANONASCI, que descreve o ano de nascimento. Que nesse caso é equivalente a uma variável calculada de IDADE uma vez que todos os clientes nasceram entre 1900 e 1999.\n",
    "\n",
    "Observa-se ainda que as variáveis categóricas são: TPCLIENT , LOCALIZA, SEXO, ESTCIVIL, SITRESID, REGIAO, CEP, PROFISSAO\n",
    "\n",
    "As contínuas são: TPEMPREG , ANONASCI , LIMITE , TEMPORES"
   ]
  },
  {
   "cell_type": "code",
   "execution_count": 31,
   "id": "d7c9d12d-3d15-447c-87c8-0df090294f02",
   "metadata": {},
   "outputs": [],
   "source": [
    "dados = dados_originais.drop(columns=['DTATUAL','TEMPO'])"
   ]
  },
  {
   "cell_type": "code",
   "execution_count": 43,
   "id": "c0083042-43b7-44a2-bae5-085424d64996",
   "metadata": {},
   "outputs": [],
   "source": [
    "dados['ANONASCI'] = dados['DTNASCI'].apply(lambda x: str(x)[-2:]).astype(int)"
   ]
  },
  {
   "cell_type": "code",
   "execution_count": 45,
   "id": "24f520ef-ab01-4dbd-af0c-bbe9ce867991",
   "metadata": {},
   "outputs": [],
   "source": [
    "dados = dados.drop(columns=['DTNASCI'])"
   ]
  },
  {
   "cell_type": "code",
   "execution_count": null,
   "id": "7d3cbf41-c1dc-4475-9dfc-eecab68bdcb6",
   "metadata": {},
   "outputs": [],
   "source": []
  },
  {
   "cell_type": "markdown",
   "id": "d3e9b596-90ac-4f9a-b121-0f8845b55334",
   "metadata": {},
   "source": [
    "---\n",
    "### Análise exploratória e de discretização das covariáveis"
   ]
  },
  {
   "cell_type": "markdown",
   "id": "6b306b09-4089-43b7-bc4f-1f503ff5a5c0",
   "metadata": {},
   "source": [
    "- TPCLIENT:"
   ]
  },
  {
   "cell_type": "code",
   "execution_count": 189,
   "id": "595d30cf-11aa-4267-ab4b-fd6b56870868",
   "metadata": {
    "tags": []
   },
   "outputs": [
    {
     "data": {
      "text/plain": [
       "<Axes: xlabel='TPCLIENT', ylabel='count'>"
      ]
     },
     "execution_count": 189,
     "metadata": {},
     "output_type": "execute_result"
    },
    {
     "data": {
      "image/png": "[encoded data removed]",
      "text/plain": [
       "<Figure size 500x400 with 1 Axes>"
      ]
     },
     "metadata": {},
     "output_type": "display_data"
    }
   ],
   "source": [
    "fig, ax = plt.subplots(figsize=(5,4))\n",
    "sns.countplot(  x= dados['TPCLIENT'], ax=ax )"
   ]
  },
  {
   "cell_type": "code",
   "execution_count": 190,
   "id": "f6bdb0d8-0a3c-4829-88e3-1283d4c28a69",
   "metadata": {},
   "outputs": [
    {
     "data": {
      "text/html": [
       "<div>\n",
       "<style scoped>\n",
       "    .dataframe tbody tr th:only-of-type {\n",
       "        vertical-align: middle;\n",
       "    }\n",
       "\n",
       "    .dataframe tbody tr th {\n",
       "        vertical-align: top;\n",
       "    }\n",
       "\n",
       "    .dataframe thead th {\n",
       "        text-align: right;\n",
       "    }\n",
       "</style>\n",
       "<table border=\"1\" class=\"dataframe\">\n",
       "  <thead>\n",
       "    <tr style=\"text-align: right;\">\n",
       "      <th>MAU</th>\n",
       "      <th>0</th>\n",
       "      <th>1</th>\n",
       "    </tr>\n",
       "    <tr>\n",
       "      <th>TPCLIENT</th>\n",
       "      <th></th>\n",
       "      <th></th>\n",
       "    </tr>\n",
       "  </thead>\n",
       "  <tbody>\n",
       "    <tr>\n",
       "      <th>1</th>\n",
       "      <td>0.622514</td>\n",
       "      <td>0.377486</td>\n",
       "    </tr>\n",
       "    <tr>\n",
       "      <th>2</th>\n",
       "      <td>0.737701</td>\n",
       "      <td>0.262299</td>\n",
       "    </tr>\n",
       "  </tbody>\n",
       "</table>\n",
       "</div>"
      ],
      "text/plain": [
       "MAU              0         1\n",
       "TPCLIENT                    \n",
       "1         0.622514  0.377486\n",
       "2         0.737701  0.262299"
      ]
     },
     "execution_count": 190,
     "metadata": {},
     "output_type": "execute_result"
    }
   ],
   "source": [
    "pd.crosstab( dados['TPCLIENT'] , dados['MAU'], normalize='index')"
   ]
  },
  {
   "cell_type": "code",
   "execution_count": null,
   "id": "90ccbc7f-6d8e-4555-ba06-421e1a80dbca",
   "metadata": {},
   "outputs": [],
   "source": []
  },
  {
   "cell_type": "markdown",
   "id": "08e638d1-2bfd-4da1-8623-394a1912073b",
   "metadata": {},
   "source": [
    "---\n",
    "- LOCALIZA:\n",
    "    "
   ]
  },
  {
   "cell_type": "code",
   "execution_count": 192,
   "id": "98aac9ad-98b7-4873-bf9f-1e5d840e4c42",
   "metadata": {},
   "outputs": [
    {
     "data": {
      "text/plain": [
       "<Axes: xlabel='LOCALIZA', ylabel='count'>"
      ]
     },
     "execution_count": 192,
     "metadata": {},
     "output_type": "execute_result"
    },
    {
     "data": {
      "image/png": "[encoded data removed]",
      "text/plain": [
       "<Figure size 1200x400 with 1 Axes>"
      ]
     },
     "metadata": {},
     "output_type": "display_data"
    }
   ],
   "source": [
    "fig, ax = plt.subplots(figsize=(12,4))\n",
    "sns.countplot(  x= dados['LOCALIZA'], ax=ax )"
   ]
  },
  {
   "cell_type": "markdown",
   "id": "1d09c4b4-e1da-4b82-bcd1-9ae20f93184d",
   "metadata": {},
   "source": [
    "Nota-se que a feature é categórica com muitos níveis."
   ]
  },
  {
   "cell_type": "code",
   "execution_count": 194,
   "id": "eca0059a-b155-4422-a3be-69b60500dcc6",
   "metadata": {},
   "outputs": [
    {
     "data": {
      "text/html": [
       "<div>\n",
       "<style scoped>\n",
       "    .dataframe tbody tr th:only-of-type {\n",
       "        vertical-align: middle;\n",
       "    }\n",
       "\n",
       "    .dataframe tbody tr th {\n",
       "        vertical-align: top;\n",
       "    }\n",
       "\n",
       "    .dataframe thead th {\n",
       "        text-align: right;\n",
       "    }\n",
       "</style>\n",
       "<table border=\"1\" class=\"dataframe\">\n",
       "  <thead>\n",
       "    <tr style=\"text-align: right;\">\n",
       "      <th>MAU</th>\n",
       "      <th>0</th>\n",
       "      <th>1</th>\n",
       "    </tr>\n",
       "    <tr>\n",
       "      <th>LOCALIZA</th>\n",
       "      <th></th>\n",
       "      <th></th>\n",
       "    </tr>\n",
       "  </thead>\n",
       "  <tbody>\n",
       "    <tr>\n",
       "      <th>219</th>\n",
       "      <td>1.0</td>\n",
       "      <td>0.0</td>\n",
       "    </tr>\n",
       "    <tr>\n",
       "      <th>341</th>\n",
       "      <td>1.0</td>\n",
       "      <td>0.0</td>\n",
       "    </tr>\n",
       "    <tr>\n",
       "      <th>337</th>\n",
       "      <td>1.0</td>\n",
       "      <td>0.0</td>\n",
       "    </tr>\n",
       "    <tr>\n",
       "      <th>319</th>\n",
       "      <td>1.0</td>\n",
       "      <td>0.0</td>\n",
       "    </tr>\n",
       "    <tr>\n",
       "      <th>318</th>\n",
       "      <td>1.0</td>\n",
       "      <td>0.0</td>\n",
       "    </tr>\n",
       "    <tr>\n",
       "      <th>...</th>\n",
       "      <td>...</td>\n",
       "      <td>...</td>\n",
       "    </tr>\n",
       "    <tr>\n",
       "      <th>393</th>\n",
       "      <td>0.0</td>\n",
       "      <td>1.0</td>\n",
       "    </tr>\n",
       "    <tr>\n",
       "      <th>164</th>\n",
       "      <td>0.0</td>\n",
       "      <td>1.0</td>\n",
       "    </tr>\n",
       "    <tr>\n",
       "      <th>414</th>\n",
       "      <td>0.0</td>\n",
       "      <td>1.0</td>\n",
       "    </tr>\n",
       "    <tr>\n",
       "      <th>200</th>\n",
       "      <td>0.0</td>\n",
       "      <td>1.0</td>\n",
       "    </tr>\n",
       "    <tr>\n",
       "      <th>205</th>\n",
       "      <td>0.0</td>\n",
       "      <td>1.0</td>\n",
       "    </tr>\n",
       "  </tbody>\n",
       "</table>\n",
       "<p>328 rows × 2 columns</p>\n",
       "</div>"
      ],
      "text/plain": [
       "MAU         0    1\n",
       "LOCALIZA          \n",
       "219       1.0  0.0\n",
       "341       1.0  0.0\n",
       "337       1.0  0.0\n",
       "319       1.0  0.0\n",
       "318       1.0  0.0\n",
       "...       ...  ...\n",
       "393       0.0  1.0\n",
       "164       0.0  1.0\n",
       "414       0.0  1.0\n",
       "200       0.0  1.0\n",
       "205       0.0  1.0\n",
       "\n",
       "[328 rows x 2 columns]"
      ]
     },
     "execution_count": 194,
     "metadata": {},
     "output_type": "execute_result"
    }
   ],
   "source": [
    "pd.crosstab( dados['LOCALIZA'] , dados['MAU'], normalize='index').sort_values(by=1)"
   ]
  },
  {
   "cell_type": "code",
   "execution_count": 195,
   "id": "f1e225d0-6dc2-477f-b152-bf1e3f38f857",
   "metadata": {},
   "outputs": [
    {
     "data": {
      "text/plain": [
       "Int64Index([219, 341, 337, 319, 318, 314, 312,  68, 144, 270,\n",
       "            ...\n",
       "            311, 380, 278, 367, 201, 393, 164, 414, 200, 205],\n",
       "           dtype='int64', name='LOCALIZA', length=328)"
      ]
     },
     "execution_count": 195,
     "metadata": {},
     "output_type": "execute_result"
    }
   ],
   "source": [
    "pd.crosstab( dados['LOCALIZA'] , dados['MAU'], normalize='index').sort_values(by=1).index"
   ]
  },
  {
   "cell_type": "code",
   "execution_count": 197,
   "id": "108e8d38-80cf-42ae-b9dd-d8bb42c1f354",
   "metadata": {},
   "outputs": [],
   "source": [
    "grupo1_loca = pd.crosstab( dados['LOCALIZA'] , dados['MAU'], normalize='index').sort_values(by=1).index[:110]\n",
    "grupo2_loca = pd.crosstab( dados['LOCALIZA'] , dados['MAU'], normalize='index').sort_values(by=1).index[110:220]\n",
    "grupo3_loca = pd.crosstab( dados['LOCALIZA'] , dados['MAU'], normalize='index').sort_values(by=1).index[220:]"
   ]
  },
  {
   "cell_type": "code",
   "execution_count": 198,
   "id": "c6f50d7a-48a0-4ce9-9522-527feefc0d90",
   "metadata": {},
   "outputs": [],
   "source": [
    "dados.loc[ dados['LOCALIZA'].isin( grupo1_loca ) , \"LOCALIZA2\"] = 0\n",
    "dados.loc[ dados['LOCALIZA'].isin( grupo2_loca ) , \"LOCALIZA2\"] = 1\n",
    "dados.loc[ dados['LOCALIZA'].isin( grupo3_loca ) , \"LOCALIZA2\"] = 2"
   ]
  },
  {
   "cell_type": "code",
   "execution_count": 200,
   "id": "be2e1867-d21b-4a90-a419-dce7e62c97c2",
   "metadata": {},
   "outputs": [
    {
     "data": {
      "text/plain": [
       "<Axes: xlabel='LOCALIZA2', ylabel='count'>"
      ]
     },
     "execution_count": 200,
     "metadata": {},
     "output_type": "execute_result"
    },
    {
     "data": {
      "image/png": "[encoded data removed]",
      "text/plain": [
       "<Figure size 500x400 with 1 Axes>"
      ]
     },
     "metadata": {},
     "output_type": "display_data"
    }
   ],
   "source": [
    "fig, ax = plt.subplots(figsize=(5,4))\n",
    "sns.countplot(  x= dados['LOCALIZA2'], ax=ax )"
   ]
  },
  {
   "cell_type": "code",
   "execution_count": 201,
   "id": "73a33cf3-9d0d-4b6c-9368-a56a060fa0c2",
   "metadata": {},
   "outputs": [
    {
     "data": {
      "text/html": [
       "<div>\n",
       "<style scoped>\n",
       "    .dataframe tbody tr th:only-of-type {\n",
       "        vertical-align: middle;\n",
       "    }\n",
       "\n",
       "    .dataframe tbody tr th {\n",
       "        vertical-align: top;\n",
       "    }\n",
       "\n",
       "    .dataframe thead th {\n",
       "        text-align: right;\n",
       "    }\n",
       "</style>\n",
       "<table border=\"1\" class=\"dataframe\">\n",
       "  <thead>\n",
       "    <tr style=\"text-align: right;\">\n",
       "      <th>MAU</th>\n",
       "      <th>0</th>\n",
       "      <th>1</th>\n",
       "    </tr>\n",
       "    <tr>\n",
       "      <th>LOCALIZA2</th>\n",
       "      <th></th>\n",
       "      <th></th>\n",
       "    </tr>\n",
       "  </thead>\n",
       "  <tbody>\n",
       "    <tr>\n",
       "      <th>0.0</th>\n",
       "      <td>0.816616</td>\n",
       "      <td>0.183384</td>\n",
       "    </tr>\n",
       "    <tr>\n",
       "      <th>1.0</th>\n",
       "      <td>0.696742</td>\n",
       "      <td>0.303258</td>\n",
       "    </tr>\n",
       "    <tr>\n",
       "      <th>2.0</th>\n",
       "      <td>0.538504</td>\n",
       "      <td>0.461496</td>\n",
       "    </tr>\n",
       "  </tbody>\n",
       "</table>\n",
       "</div>"
      ],
      "text/plain": [
       "MAU               0         1\n",
       "LOCALIZA2                    \n",
       "0.0        0.816616  0.183384\n",
       "1.0        0.696742  0.303258\n",
       "2.0        0.538504  0.461496"
      ]
     },
     "execution_count": 201,
     "metadata": {},
     "output_type": "execute_result"
    }
   ],
   "source": [
    "pd.crosstab( dados['LOCALIZA2'] , dados['MAU'], normalize='index')"
   ]
  },
  {
   "cell_type": "markdown",
   "id": "5e524d27-c15d-43f0-8c04-b6f7d8966782",
   "metadata": {},
   "source": [
    "---\n",
    "- SEXO:\n",
    "    "
   ]
  },
  {
   "cell_type": "code",
   "execution_count": 203,
   "id": "9da5e035-46d9-4d9e-9650-f8e50ffbb088",
   "metadata": {},
   "outputs": [
    {
     "data": {
      "text/plain": [
       "<Axes: xlabel='SEXO', ylabel='count'>"
      ]
     },
     "execution_count": 203,
     "metadata": {},
     "output_type": "execute_result"
    },
    {
     "data": {
      "image/png": "[encoded data removed]",
      "text/plain": [
       "<Figure size 500x400 with 1 Axes>"
      ]
     },
     "metadata": {},
     "output_type": "display_data"
    }
   ],
   "source": [
    "fig, ax = plt.subplots(figsize=(5,4))\n",
    "sns.countplot(  x= dados['SEXO'], ax=ax )"
   ]
  },
  {
   "cell_type": "code",
   "execution_count": 204,
   "id": "e35de22b-8d1a-4c52-9a4d-57c98cfb5bc9",
   "metadata": {},
   "outputs": [
    {
     "data": {
      "text/html": [
       "<div>\n",
       "<style scoped>\n",
       "    .dataframe tbody tr th:only-of-type {\n",
       "        vertical-align: middle;\n",
       "    }\n",
       "\n",
       "    .dataframe tbody tr th {\n",
       "        vertical-align: top;\n",
       "    }\n",
       "\n",
       "    .dataframe thead th {\n",
       "        text-align: right;\n",
       "    }\n",
       "</style>\n",
       "<table border=\"1\" class=\"dataframe\">\n",
       "  <thead>\n",
       "    <tr style=\"text-align: right;\">\n",
       "      <th>MAU</th>\n",
       "      <th>0</th>\n",
       "      <th>1</th>\n",
       "    </tr>\n",
       "    <tr>\n",
       "      <th>SEXO</th>\n",
       "      <th></th>\n",
       "      <th></th>\n",
       "    </tr>\n",
       "  </thead>\n",
       "  <tbody>\n",
       "    <tr>\n",
       "      <th>F</th>\n",
       "      <td>0.722800</td>\n",
       "      <td>0.277200</td>\n",
       "    </tr>\n",
       "    <tr>\n",
       "      <th>M</th>\n",
       "      <td>0.658797</td>\n",
       "      <td>0.341203</td>\n",
       "    </tr>\n",
       "  </tbody>\n",
       "</table>\n",
       "</div>"
      ],
      "text/plain": [
       "MAU          0         1\n",
       "SEXO                    \n",
       "F     0.722800  0.277200\n",
       "M     0.658797  0.341203"
      ]
     },
     "execution_count": 204,
     "metadata": {},
     "output_type": "execute_result"
    }
   ],
   "source": [
    "pd.crosstab( dados['SEXO'] , dados['MAU'], normalize='index')"
   ]
  },
  {
   "cell_type": "markdown",
   "id": "be3f1f76-e646-4b50-b2a4-f807b7285198",
   "metadata": {},
   "source": [
    "---\n",
    "- ESTCIVIL:"
   ]
  },
  {
   "cell_type": "code",
   "execution_count": 205,
   "id": "c23d9fc6-82b0-41a2-bbec-aedafdb3d1d8",
   "metadata": {},
   "outputs": [
    {
     "data": {
      "text/plain": [
       "<Axes: xlabel='ESTCIVIL', ylabel='count'>"
      ]
     },
     "execution_count": 205,
     "metadata": {},
     "output_type": "execute_result"
    },
    {
     "data": {
      "image/png": "[encoded data removed]",
      "text/plain": [
       "<Figure size 500x400 with 1 Axes>"
      ]
     },
     "metadata": {},
     "output_type": "display_data"
    }
   ],
   "source": [
    "fig, ax = plt.subplots(figsize=(5,4))\n",
    "sns.countplot(  x= dados['ESTCIVIL'], ax=ax )"
   ]
  },
  {
   "cell_type": "code",
   "execution_count": 206,
   "id": "45a51333-15ed-4b72-a836-aa3a83c71df7",
   "metadata": {},
   "outputs": [
    {
     "data": {
      "text/html": [
       "<div>\n",
       "<style scoped>\n",
       "    .dataframe tbody tr th:only-of-type {\n",
       "        vertical-align: middle;\n",
       "    }\n",
       "\n",
       "    .dataframe tbody tr th {\n",
       "        vertical-align: top;\n",
       "    }\n",
       "\n",
       "    .dataframe thead th {\n",
       "        text-align: right;\n",
       "    }\n",
       "</style>\n",
       "<table border=\"1\" class=\"dataframe\">\n",
       "  <thead>\n",
       "    <tr style=\"text-align: right;\">\n",
       "      <th>MAU</th>\n",
       "      <th>0</th>\n",
       "      <th>1</th>\n",
       "    </tr>\n",
       "    <tr>\n",
       "      <th>ESTCIVIL</th>\n",
       "      <th></th>\n",
       "      <th></th>\n",
       "    </tr>\n",
       "  </thead>\n",
       "  <tbody>\n",
       "    <tr>\n",
       "      <th>C</th>\n",
       "      <td>0.726825</td>\n",
       "      <td>0.273175</td>\n",
       "    </tr>\n",
       "    <tr>\n",
       "      <th>D</th>\n",
       "      <td>0.700389</td>\n",
       "      <td>0.299611</td>\n",
       "    </tr>\n",
       "    <tr>\n",
       "      <th>O</th>\n",
       "      <td>1.000000</td>\n",
       "      <td>0.000000</td>\n",
       "    </tr>\n",
       "    <tr>\n",
       "      <th>S</th>\n",
       "      <td>0.632075</td>\n",
       "      <td>0.367925</td>\n",
       "    </tr>\n",
       "    <tr>\n",
       "      <th>V</th>\n",
       "      <td>0.757669</td>\n",
       "      <td>0.242331</td>\n",
       "    </tr>\n",
       "  </tbody>\n",
       "</table>\n",
       "</div>"
      ],
      "text/plain": [
       "MAU              0         1\n",
       "ESTCIVIL                    \n",
       "C         0.726825  0.273175\n",
       "D         0.700389  0.299611\n",
       "O         1.000000  0.000000\n",
       "S         0.632075  0.367925\n",
       "V         0.757669  0.242331"
      ]
     },
     "execution_count": 206,
     "metadata": {},
     "output_type": "execute_result"
    }
   ],
   "source": [
    "pd.crosstab( dados['ESTCIVIL'] , dados['MAU'], normalize='index')"
   ]
  },
  {
   "cell_type": "code",
   "execution_count": 214,
   "id": "b920a798-afbb-44be-a39c-aff93e7d84d8",
   "metadata": {},
   "outputs": [],
   "source": [
    "dados.loc[ dados['ESTCIVIL'].isin(['S']) , \"ESTCIVIL2\" ] = 0\n",
    "dados.loc[ dados['ESTCIVIL'].isin(['C','D']) , \"ESTCIVIL2\" ] = 1\n",
    "dados.loc[ dados['ESTCIVIL'].isin(['V','O']) , \"ESTCIVIL2\" ] = 2"
   ]
  },
  {
   "cell_type": "code",
   "execution_count": null,
   "id": "c2eaeb07-da83-4943-97fc-a1c622128815",
   "metadata": {},
   "outputs": [],
   "source": []
  },
  {
   "cell_type": "markdown",
   "id": "8ff9107d-bbac-4fe7-bea3-436b4c41dbef",
   "metadata": {},
   "source": [
    "---\n",
    "- SITRESID:"
   ]
  },
  {
   "cell_type": "code",
   "execution_count": 208,
   "id": "4578ff5b-72c1-4b70-8ef1-34a85689bf3a",
   "metadata": {},
   "outputs": [
    {
     "data": {
      "text/plain": [
       "<Axes: xlabel='SITRESID', ylabel='count'>"
      ]
     },
     "execution_count": 208,
     "metadata": {},
     "output_type": "execute_result"
    },
    {
     "data": {
      "image/png": "[encoded data removed]",
      "text/plain": [
       "<Figure size 500x400 with 1 Axes>"
      ]
     },
     "metadata": {},
     "output_type": "display_data"
    }
   ],
   "source": [
    "fig, ax = plt.subplots(figsize=(5,4))\n",
    "sns.countplot(  x= dados['SITRESID'], ax=ax )"
   ]
  },
  {
   "cell_type": "code",
   "execution_count": 209,
   "id": "1287e390-06cc-43ab-915c-354ae2e04bc3",
   "metadata": {},
   "outputs": [
    {
     "data": {
      "text/html": [
       "<div>\n",
       "<style scoped>\n",
       "    .dataframe tbody tr th:only-of-type {\n",
       "        vertical-align: middle;\n",
       "    }\n",
       "\n",
       "    .dataframe tbody tr th {\n",
       "        vertical-align: top;\n",
       "    }\n",
       "\n",
       "    .dataframe thead th {\n",
       "        text-align: right;\n",
       "    }\n",
       "</style>\n",
       "<table border=\"1\" class=\"dataframe\">\n",
       "  <thead>\n",
       "    <tr style=\"text-align: right;\">\n",
       "      <th>MAU</th>\n",
       "      <th>0</th>\n",
       "      <th>1</th>\n",
       "    </tr>\n",
       "    <tr>\n",
       "      <th>SITRESID</th>\n",
       "      <th></th>\n",
       "      <th></th>\n",
       "    </tr>\n",
       "  </thead>\n",
       "  <tbody>\n",
       "    <tr>\n",
       "      <th>A</th>\n",
       "      <td>0.630363</td>\n",
       "      <td>0.369637</td>\n",
       "    </tr>\n",
       "    <tr>\n",
       "      <th>P</th>\n",
       "      <td>0.703442</td>\n",
       "      <td>0.296558</td>\n",
       "    </tr>\n",
       "  </tbody>\n",
       "</table>\n",
       "</div>"
      ],
      "text/plain": [
       "MAU              0         1\n",
       "SITRESID                    \n",
       "A         0.630363  0.369637\n",
       "P         0.703442  0.296558"
      ]
     },
     "execution_count": 209,
     "metadata": {},
     "output_type": "execute_result"
    }
   ],
   "source": [
    "pd.crosstab( dados['SITRESID'] , dados['MAU'], normalize='index')"
   ]
  },
  {
   "cell_type": "markdown",
   "id": "2ef66f24-ff13-4376-b047-cae51091884d",
   "metadata": {},
   "source": [
    "---\n",
    "- ANONASCI:"
   ]
  },
  {
   "cell_type": "code",
   "execution_count": 150,
   "id": "73dc6af6-527e-413b-9a9b-4198b86c73fe",
   "metadata": {},
   "outputs": [
    {
     "data": {
      "text/plain": [
       "<Axes: xlabel='ANONASCI', ylabel='count'>"
      ]
     },
     "execution_count": 150,
     "metadata": {},
     "output_type": "execute_result"
    },
    {
     "data": {
      "image/png": "[encoded data removed]",
      "text/plain": [
       "<Figure size 500x400 with 1 Axes>"
      ]
     },
     "metadata": {},
     "output_type": "display_data"
    }
   ],
   "source": [
    "fig, ax = plt.subplots(figsize=(5,4))\n",
    "sns.countplot(  x= pd.qcut(dados['ANONASCI'], 4), ax=ax )"
   ]
  },
  {
   "cell_type": "code",
   "execution_count": 151,
   "id": "faaf7044-673e-4ff7-a0b0-cefa7dc728e8",
   "metadata": {},
   "outputs": [
    {
     "data": {
      "text/html": [
       "<div>\n",
       "<style scoped>\n",
       "    .dataframe tbody tr th:only-of-type {\n",
       "        vertical-align: middle;\n",
       "    }\n",
       "\n",
       "    .dataframe tbody tr th {\n",
       "        vertical-align: top;\n",
       "    }\n",
       "\n",
       "    .dataframe thead th {\n",
       "        text-align: right;\n",
       "    }\n",
       "</style>\n",
       "<table border=\"1\" class=\"dataframe\">\n",
       "  <thead>\n",
       "    <tr style=\"text-align: right;\">\n",
       "      <th>MAU</th>\n",
       "      <th>0</th>\n",
       "      <th>1</th>\n",
       "    </tr>\n",
       "    <tr>\n",
       "      <th>ANONASCI</th>\n",
       "      <th></th>\n",
       "      <th></th>\n",
       "    </tr>\n",
       "  </thead>\n",
       "  <tbody>\n",
       "    <tr>\n",
       "      <th>(12.999, 50.0]</th>\n",
       "      <td>0.811117</td>\n",
       "      <td>0.188883</td>\n",
       "    </tr>\n",
       "    <tr>\n",
       "      <th>(50.0, 63.0]</th>\n",
       "      <td>0.730430</td>\n",
       "      <td>0.269570</td>\n",
       "    </tr>\n",
       "    <tr>\n",
       "      <th>(63.0, 74.0]</th>\n",
       "      <td>0.689983</td>\n",
       "      <td>0.310017</td>\n",
       "    </tr>\n",
       "    <tr>\n",
       "      <th>(74.0, 87.0]</th>\n",
       "      <td>0.541405</td>\n",
       "      <td>0.458595</td>\n",
       "    </tr>\n",
       "  </tbody>\n",
       "</table>\n",
       "</div>"
      ],
      "text/plain": [
       "MAU                    0         1\n",
       "ANONASCI                          \n",
       "(12.999, 50.0]  0.811117  0.188883\n",
       "(50.0, 63.0]    0.730430  0.269570\n",
       "(63.0, 74.0]    0.689983  0.310017\n",
       "(74.0, 87.0]    0.541405  0.458595"
      ]
     },
     "execution_count": 151,
     "metadata": {},
     "output_type": "execute_result"
    }
   ],
   "source": [
    "pd.crosstab( pd.qcut(dados['ANONASCI'], 4) , dados['MAU'], normalize='index')"
   ]
  },
  {
   "cell_type": "markdown",
   "id": "6e2e425c-f81a-4cd7-ad45-b8babf162d32",
   "metadata": {},
   "source": [
    "Regra de discretização:\n",
    "- Faz sentido manter os quatro grupos discretizados pela diferença na taxa de maus de cada grupo."
   ]
  },
  {
   "cell_type": "code",
   "execution_count": 244,
   "id": "37370971-825e-498f-bd9b-ee6f3793dcdd",
   "metadata": {},
   "outputs": [],
   "source": [
    "dados['ANONASCI2'] = pd.qcut(dados['ANONASCI'], 4)"
   ]
  },
  {
   "cell_type": "markdown",
   "id": "d1ce8e7a-30fa-4a5d-a166-a42b1fa099f8",
   "metadata": {},
   "source": [
    "---\n",
    "- TPEMPREG:"
   ]
  },
  {
   "cell_type": "code",
   "execution_count": 152,
   "id": "af03228f-9109-484f-a93b-472facaa7bf4",
   "metadata": {},
   "outputs": [
    {
     "data": {
      "text/plain": [
       "<Axes: xlabel='TPEMPREG', ylabel='count'>"
      ]
     },
     "execution_count": 152,
     "metadata": {},
     "output_type": "execute_result"
    },
    {
     "data": {
      "image/png": "[encoded data removed]",
      "text/plain": [
       "<Figure size 500x400 with 1 Axes>"
      ]
     },
     "metadata": {},
     "output_type": "display_data"
    }
   ],
   "source": [
    "fig, ax = plt.subplots(figsize=(5,4))\n",
    "sns.countplot(  x= pd.qcut(dados['TPEMPREG'], 4), ax=ax )"
   ]
  },
  {
   "cell_type": "code",
   "execution_count": 65,
   "id": "6a092a97-dbc3-45e4-90cd-fbcd13b7f8be",
   "metadata": {},
   "outputs": [
    {
     "data": {
      "text/html": [
       "<div>\n",
       "<style scoped>\n",
       "    .dataframe tbody tr th:only-of-type {\n",
       "        vertical-align: middle;\n",
       "    }\n",
       "\n",
       "    .dataframe tbody tr th {\n",
       "        vertical-align: top;\n",
       "    }\n",
       "\n",
       "    .dataframe thead th {\n",
       "        text-align: right;\n",
       "    }\n",
       "</style>\n",
       "<table border=\"1\" class=\"dataframe\">\n",
       "  <thead>\n",
       "    <tr style=\"text-align: right;\">\n",
       "      <th>MAU</th>\n",
       "      <th>0</th>\n",
       "      <th>1</th>\n",
       "    </tr>\n",
       "    <tr>\n",
       "      <th>TPEMPREG</th>\n",
       "      <th></th>\n",
       "      <th></th>\n",
       "    </tr>\n",
       "  </thead>\n",
       "  <tbody>\n",
       "    <tr>\n",
       "      <th>(-0.001, 32.0]</th>\n",
       "      <td>0.572432</td>\n",
       "      <td>0.427568</td>\n",
       "    </tr>\n",
       "    <tr>\n",
       "      <th>(32.0, 60.0]</th>\n",
       "      <td>0.682403</td>\n",
       "      <td>0.317597</td>\n",
       "    </tr>\n",
       "    <tr>\n",
       "      <th>(60.0, 130.0]</th>\n",
       "      <td>0.735114</td>\n",
       "      <td>0.264886</td>\n",
       "    </tr>\n",
       "    <tr>\n",
       "      <th>(130.0, 628.0]</th>\n",
       "      <td>0.796573</td>\n",
       "      <td>0.203427</td>\n",
       "    </tr>\n",
       "  </tbody>\n",
       "</table>\n",
       "</div>"
      ],
      "text/plain": [
       "MAU                    0         1\n",
       "TPEMPREG                          \n",
       "(-0.001, 32.0]  0.572432  0.427568\n",
       "(32.0, 60.0]    0.682403  0.317597\n",
       "(60.0, 130.0]   0.735114  0.264886\n",
       "(130.0, 628.0]  0.796573  0.203427"
      ]
     },
     "execution_count": 65,
     "metadata": {},
     "output_type": "execute_result"
    }
   ],
   "source": [
    "pd.crosstab( pd.qcut(dados['TPEMPREG'], 4) , dados['MAU'],normalize='index')"
   ]
  },
  {
   "cell_type": "markdown",
   "id": "58c1ea81-aa07-4679-9882-bcc3384c1e5f",
   "metadata": {},
   "source": [
    "Regra de discretização:\n",
    "- É razoável manter 3 grupos (agrupando os grupos (32.0, 60.0] e (60.0, 130.0]) pela diferença na taxa de maus\n",
    "\n",
    "**Intervalos finais**: [(-0.001, 32.0] < (32.0, 130.0] < (130.0, 628.0]] \n",
    "\n"
   ]
  },
  {
   "cell_type": "code",
   "execution_count": 161,
   "id": "9dec4f25-2c35-4e48-8cd1-418c7952b1f9",
   "metadata": {},
   "outputs": [
    {
     "data": {
      "text/plain": [
       "<Axes: xlabel='TPEMPREG', ylabel='count'>"
      ]
     },
     "execution_count": 161,
     "metadata": {},
     "output_type": "execute_result"
    },
    {
     "data": {
      "image/png": "[encoded data removed]",
      "text/plain": [
       "<Figure size 500x400 with 1 Axes>"
      ]
     },
     "metadata": {},
     "output_type": "display_data"
    }
   ],
   "source": [
    "fig, ax = plt.subplots(figsize=(5,4))\n",
    "sns.countplot(  x= pd.cut(dados['TPEMPREG'], pd.IntervalIndex.from_tuples([(-0.001,32.),(32.,130.),(130.,628.)])  ), ax=ax )"
   ]
  },
  {
   "cell_type": "code",
   "execution_count": 164,
   "id": "8ff1bfc4-a2af-4087-969c-ef33420f72ca",
   "metadata": {},
   "outputs": [
    {
     "data": {
      "text/html": [
       "<div>\n",
       "<style scoped>\n",
       "    .dataframe tbody tr th:only-of-type {\n",
       "        vertical-align: middle;\n",
       "    }\n",
       "\n",
       "    .dataframe tbody tr th {\n",
       "        vertical-align: top;\n",
       "    }\n",
       "\n",
       "    .dataframe thead th {\n",
       "        text-align: right;\n",
       "    }\n",
       "</style>\n",
       "<table border=\"1\" class=\"dataframe\">\n",
       "  <thead>\n",
       "    <tr style=\"text-align: right;\">\n",
       "      <th>MAU</th>\n",
       "      <th>0</th>\n",
       "      <th>1</th>\n",
       "    </tr>\n",
       "    <tr>\n",
       "      <th>TPEMPREG</th>\n",
       "      <th></th>\n",
       "      <th></th>\n",
       "    </tr>\n",
       "  </thead>\n",
       "  <tbody>\n",
       "    <tr>\n",
       "      <th>(-0.001, 32.0]</th>\n",
       "      <td>0.572432</td>\n",
       "      <td>0.427568</td>\n",
       "    </tr>\n",
       "    <tr>\n",
       "      <th>(32.0, 130.0]</th>\n",
       "      <td>0.708276</td>\n",
       "      <td>0.291724</td>\n",
       "    </tr>\n",
       "    <tr>\n",
       "      <th>(130.0, 628.0]</th>\n",
       "      <td>0.796573</td>\n",
       "      <td>0.203427</td>\n",
       "    </tr>\n",
       "  </tbody>\n",
       "</table>\n",
       "</div>"
      ],
      "text/plain": [
       "MAU                    0         1\n",
       "TPEMPREG                          \n",
       "(-0.001, 32.0]  0.572432  0.427568\n",
       "(32.0, 130.0]   0.708276  0.291724\n",
       "(130.0, 628.0]  0.796573  0.203427"
      ]
     },
     "execution_count": 164,
     "metadata": {},
     "output_type": "execute_result"
    }
   ],
   "source": [
    "pd.crosstab( pd.cut(dados['TPEMPREG'], pd.IntervalIndex.from_tuples([(-0.001,32.),(32.,130.),(130.,628.)])), dados['MAU'],normalize='index')"
   ]
  },
  {
   "cell_type": "code",
   "execution_count": 217,
   "id": "ec55e51d-8e4b-4b58-8aec-cb23c0c7a7c1",
   "metadata": {},
   "outputs": [],
   "source": [
    "dados['TPEMPREG2'] = pd.cut(dados['TPEMPREG'], pd.IntervalIndex.from_tuples([(-0.001,32.),(32.,130.),(130.,628.)]))"
   ]
  },
  {
   "cell_type": "markdown",
   "id": "4c826673-cb43-4034-85dd-72c20dad4ada",
   "metadata": {},
   "source": [
    "---\n",
    "\n",
    "- LIMITE:"
   ]
  },
  {
   "cell_type": "code",
   "execution_count": 165,
   "id": "607f172c-898c-4c04-8621-dfa771f4fb21",
   "metadata": {},
   "outputs": [
    {
     "data": {
      "text/plain": [
       "<Axes: xlabel='LIMITE', ylabel='count'>"
      ]
     },
     "execution_count": 165,
     "metadata": {},
     "output_type": "execute_result"
    },
    {
     "data": {
      "image/png": "[encoded data removed]",
      "text/plain": [
       "<Figure size 500x400 with 1 Axes>"
      ]
     },
     "metadata": {},
     "output_type": "display_data"
    }
   ],
   "source": [
    "fig, ax = plt.subplots(figsize=(5,4))\n",
    "sns.countplot(  x= pd.qcut(dados['LIMITE'], 4), ax=ax )"
   ]
  },
  {
   "cell_type": "code",
   "execution_count": 153,
   "id": "7b2c4c85-5a17-43dd-9c0f-5a52f2989c75",
   "metadata": {},
   "outputs": [
    {
     "data": {
      "text/html": [
       "<div>\n",
       "<style scoped>\n",
       "    .dataframe tbody tr th:only-of-type {\n",
       "        vertical-align: middle;\n",
       "    }\n",
       "\n",
       "    .dataframe tbody tr th {\n",
       "        vertical-align: top;\n",
       "    }\n",
       "\n",
       "    .dataframe thead th {\n",
       "        text-align: right;\n",
       "    }\n",
       "</style>\n",
       "<table border=\"1\" class=\"dataframe\">\n",
       "  <thead>\n",
       "    <tr style=\"text-align: right;\">\n",
       "      <th>MAU</th>\n",
       "      <th>0</th>\n",
       "      <th>1</th>\n",
       "    </tr>\n",
       "    <tr>\n",
       "      <th>LIMITE</th>\n",
       "      <th></th>\n",
       "      <th></th>\n",
       "    </tr>\n",
       "  </thead>\n",
       "  <tbody>\n",
       "    <tr>\n",
       "      <th>(-0.001, 31.0]</th>\n",
       "      <td>0.633097</td>\n",
       "      <td>0.366903</td>\n",
       "    </tr>\n",
       "    <tr>\n",
       "      <th>(31.0, 66.0]</th>\n",
       "      <td>0.672149</td>\n",
       "      <td>0.327851</td>\n",
       "    </tr>\n",
       "    <tr>\n",
       "      <th>(66.0, 118.0]</th>\n",
       "      <td>0.724590</td>\n",
       "      <td>0.275410</td>\n",
       "    </tr>\n",
       "    <tr>\n",
       "      <th>(118.0, 99865.0]</th>\n",
       "      <td>0.753417</td>\n",
       "      <td>0.246583</td>\n",
       "    </tr>\n",
       "  </tbody>\n",
       "</table>\n",
       "</div>"
      ],
      "text/plain": [
       "MAU                      0         1\n",
       "LIMITE                              \n",
       "(-0.001, 31.0]    0.633097  0.366903\n",
       "(31.0, 66.0]      0.672149  0.327851\n",
       "(66.0, 118.0]     0.724590  0.275410\n",
       "(118.0, 99865.0]  0.753417  0.246583"
      ]
     },
     "execution_count": 153,
     "metadata": {},
     "output_type": "execute_result"
    }
   ],
   "source": [
    "pd.crosstab( pd.qcut(dados['LIMITE'], 4) , dados['MAU'],normalize='index')"
   ]
  },
  {
   "cell_type": "markdown",
   "id": "cc0c9eb1-ce7d-46e6-a820-9ecfcf543067",
   "metadata": {},
   "source": [
    "Regra de discretização:\n",
    "- É razoável manter 3 grupos (agrupando os grupos (31.0, 66.0] e (66.0, 118.0]) pela diferença na taxa de maus\n",
    "\n",
    "**Intervalos finais**: [(-0.001, 31.0] < (31.0, 118.0] < (118., 99865.0]] "
   ]
  },
  {
   "cell_type": "code",
   "execution_count": 166,
   "id": "9656bf61-2328-4886-8de3-15cb447e4e0d",
   "metadata": {},
   "outputs": [
    {
     "data": {
      "text/plain": [
       "<Axes: xlabel='LIMITE', ylabel='count'>"
      ]
     },
     "execution_count": 166,
     "metadata": {},
     "output_type": "execute_result"
    },
    {
     "data": {
      "image/png": "[encoded data removed]",
      "text/plain": [
       "<Figure size 500x400 with 1 Axes>"
      ]
     },
     "metadata": {},
     "output_type": "display_data"
    }
   ],
   "source": [
    "fig, ax = plt.subplots(figsize=(5,4))\n",
    "sns.countplot(  x= pd.cut(dados['LIMITE'], pd.IntervalIndex.from_tuples([(-0.001, 31.0),(31.0, 118.0),(118., 99865.0)])  ), ax=ax )"
   ]
  },
  {
   "cell_type": "code",
   "execution_count": 167,
   "id": "5aa72945-de89-487d-8ffc-32b42fbda5d3",
   "metadata": {},
   "outputs": [
    {
     "data": {
      "text/html": [
       "<div>\n",
       "<style scoped>\n",
       "    .dataframe tbody tr th:only-of-type {\n",
       "        vertical-align: middle;\n",
       "    }\n",
       "\n",
       "    .dataframe tbody tr th {\n",
       "        vertical-align: top;\n",
       "    }\n",
       "\n",
       "    .dataframe thead th {\n",
       "        text-align: right;\n",
       "    }\n",
       "</style>\n",
       "<table border=\"1\" class=\"dataframe\">\n",
       "  <thead>\n",
       "    <tr style=\"text-align: right;\">\n",
       "      <th>MAU</th>\n",
       "      <th>0</th>\n",
       "      <th>1</th>\n",
       "    </tr>\n",
       "    <tr>\n",
       "      <th>LIMITE</th>\n",
       "      <th></th>\n",
       "      <th></th>\n",
       "    </tr>\n",
       "  </thead>\n",
       "  <tbody>\n",
       "    <tr>\n",
       "      <th>(-0.001, 31.0]</th>\n",
       "      <td>0.633097</td>\n",
       "      <td>0.366903</td>\n",
       "    </tr>\n",
       "    <tr>\n",
       "      <th>(31.0, 118.0]</th>\n",
       "      <td>0.698413</td>\n",
       "      <td>0.301587</td>\n",
       "    </tr>\n",
       "    <tr>\n",
       "      <th>(118.0, 99865.0]</th>\n",
       "      <td>0.753417</td>\n",
       "      <td>0.246583</td>\n",
       "    </tr>\n",
       "  </tbody>\n",
       "</table>\n",
       "</div>"
      ],
      "text/plain": [
       "MAU                      0         1\n",
       "LIMITE                              \n",
       "(-0.001, 31.0]    0.633097  0.366903\n",
       "(31.0, 118.0]     0.698413  0.301587\n",
       "(118.0, 99865.0]  0.753417  0.246583"
      ]
     },
     "execution_count": 167,
     "metadata": {},
     "output_type": "execute_result"
    }
   ],
   "source": [
    "pd.crosstab( pd.cut(dados['LIMITE'], pd.IntervalIndex.from_tuples([(-0.001, 31.0),(31.0, 118.0),(118., 99865.0)])  ) , dados['MAU'],normalize='index')"
   ]
  },
  {
   "cell_type": "code",
   "execution_count": 224,
   "id": "b3910ec7-97fe-4995-bdaf-cbb4025b9895",
   "metadata": {},
   "outputs": [],
   "source": [
    "dados['LIMITE2'] = pd.cut(dados['LIMITE'], pd.IntervalIndex.from_tuples([(-0.001, 31.0),(31.0, 118.0),(118., 99865.0)])  )"
   ]
  },
  {
   "cell_type": "markdown",
   "id": "983a0053-77fc-4090-92bf-53eb037b6e27",
   "metadata": {},
   "source": [
    "---\n",
    "- TEMPORES:"
   ]
  },
  {
   "cell_type": "code",
   "execution_count": null,
   "id": "4bebe0a9-91fa-463b-bac4-c0aa5b6d05e4",
   "metadata": {},
   "outputs": [],
   "source": [
    "fig, ax = plt.subplots(figsize=(5,4))\n",
    "sns.countplot(  x= pd.qcut(dados['TEMPORES'], 4), ax=ax )"
   ]
  },
  {
   "cell_type": "code",
   "execution_count": 171,
   "id": "3b902e94-253d-4fec-965b-8e5ac6b6c575",
   "metadata": {},
   "outputs": [
    {
     "data": {
      "text/html": [
       "<div>\n",
       "<style scoped>\n",
       "    .dataframe tbody tr th:only-of-type {\n",
       "        vertical-align: middle;\n",
       "    }\n",
       "\n",
       "    .dataframe tbody tr th {\n",
       "        vertical-align: top;\n",
       "    }\n",
       "\n",
       "    .dataframe thead th {\n",
       "        text-align: right;\n",
       "    }\n",
       "</style>\n",
       "<table border=\"1\" class=\"dataframe\">\n",
       "  <thead>\n",
       "    <tr style=\"text-align: right;\">\n",
       "      <th>MAU</th>\n",
       "      <th>0</th>\n",
       "      <th>1</th>\n",
       "    </tr>\n",
       "    <tr>\n",
       "      <th>TEMPORES</th>\n",
       "      <th></th>\n",
       "      <th></th>\n",
       "    </tr>\n",
       "  </thead>\n",
       "  <tbody>\n",
       "    <tr>\n",
       "      <th>(-0.001, 2.0]</th>\n",
       "      <td>0.666847</td>\n",
       "      <td>0.333153</td>\n",
       "    </tr>\n",
       "    <tr>\n",
       "      <th>(2.0, 8.0]</th>\n",
       "      <td>0.679156</td>\n",
       "      <td>0.320844</td>\n",
       "    </tr>\n",
       "    <tr>\n",
       "      <th>(8.0, 15.0]</th>\n",
       "      <td>0.710682</td>\n",
       "      <td>0.289318</td>\n",
       "    </tr>\n",
       "    <tr>\n",
       "      <th>(15.0, 70.0]</th>\n",
       "      <td>0.731017</td>\n",
       "      <td>0.268983</td>\n",
       "    </tr>\n",
       "  </tbody>\n",
       "</table>\n",
       "</div>"
      ],
      "text/plain": [
       "MAU                   0         1\n",
       "TEMPORES                         \n",
       "(-0.001, 2.0]  0.666847  0.333153\n",
       "(2.0, 8.0]     0.679156  0.320844\n",
       "(8.0, 15.0]    0.710682  0.289318\n",
       "(15.0, 70.0]   0.731017  0.268983"
      ]
     },
     "execution_count": 171,
     "metadata": {},
     "output_type": "execute_result"
    }
   ],
   "source": [
    "pd.crosstab( pd.qcut(dados['TEMPORES'], 4) , dados['MAU'],normalize='index')"
   ]
  },
  {
   "cell_type": "markdown",
   "id": "aa45286d-70ab-469b-b362-936acf56bf99",
   "metadata": {},
   "source": [
    "Regra de discretização:\n",
    "- É razoável manter 2 grupos (agrupando os grupos (2.0, 8.0] e (8.0, 15.0]) pela diferença na taxa de maus\n",
    "\n",
    "**Intervalos finais**: [(-0.001, 4.0] < (4.0, 15.0] < (15.0, 70.0]]"
   ]
  },
  {
   "cell_type": "code",
   "execution_count": 236,
   "id": "d684e0e1-8e94-4e1d-8a94-93709427b393",
   "metadata": {},
   "outputs": [
    {
     "data": {
      "text/plain": [
       "<Axes: xlabel='TEMPORES', ylabel='count'>"
      ]
     },
     "execution_count": 236,
     "metadata": {},
     "output_type": "execute_result"
    },
    {
     "data": {
      "image/png": "[encoded data removed]",
      "text/plain": [
       "<Figure size 500x400 with 1 Axes>"
      ]
     },
     "metadata": {},
     "output_type": "display_data"
    }
   ],
   "source": [
    "fig, ax = plt.subplots(figsize=(5,4))\n",
    "sns.countplot(  x= pd.cut(dados['TEMPORES'], pd.IntervalIndex.from_tuples([(-0.001, 4.0),(4.0, 70.0)])  ), ax=ax )"
   ]
  },
  {
   "cell_type": "code",
   "execution_count": 235,
   "id": "596e4ecf-62de-4ed2-a78f-88ff39de03d3",
   "metadata": {},
   "outputs": [
    {
     "data": {
      "text/html": [
       "<div>\n",
       "<style scoped>\n",
       "    .dataframe tbody tr th:only-of-type {\n",
       "        vertical-align: middle;\n",
       "    }\n",
       "\n",
       "    .dataframe tbody tr th {\n",
       "        vertical-align: top;\n",
       "    }\n",
       "\n",
       "    .dataframe thead th {\n",
       "        text-align: right;\n",
       "    }\n",
       "</style>\n",
       "<table border=\"1\" class=\"dataframe\">\n",
       "  <thead>\n",
       "    <tr style=\"text-align: right;\">\n",
       "      <th>MAU</th>\n",
       "      <th>0</th>\n",
       "      <th>1</th>\n",
       "    </tr>\n",
       "    <tr>\n",
       "      <th>TEMPORES</th>\n",
       "      <th></th>\n",
       "      <th></th>\n",
       "    </tr>\n",
       "  </thead>\n",
       "  <tbody>\n",
       "    <tr>\n",
       "      <th>(-0.001, 4.0]</th>\n",
       "      <td>0.669632</td>\n",
       "      <td>0.330368</td>\n",
       "    </tr>\n",
       "    <tr>\n",
       "      <th>(4.0, 70.0]</th>\n",
       "      <td>0.709098</td>\n",
       "      <td>0.290902</td>\n",
       "    </tr>\n",
       "  </tbody>\n",
       "</table>\n",
       "</div>"
      ],
      "text/plain": [
       "MAU                   0         1\n",
       "TEMPORES                         \n",
       "(-0.001, 4.0]  0.669632  0.330368\n",
       "(4.0, 70.0]    0.709098  0.290902"
      ]
     },
     "execution_count": 235,
     "metadata": {},
     "output_type": "execute_result"
    }
   ],
   "source": [
    "pd.crosstab( pd.cut(dados['TEMPORES'], pd.IntervalIndex.from_tuples([(-0.001, 4.0),(4.0, 70.0)])  ) , dados['MAU'],normalize='index')"
   ]
  },
  {
   "cell_type": "code",
   "execution_count": 237,
   "id": "ab064cfb-1d5d-4812-99ca-243734de24e5",
   "metadata": {},
   "outputs": [],
   "source": [
    "dados['TEMPORES2'] = pd.cut(dados['TEMPORES'], pd.IntervalIndex.from_tuples([(-0.001, 4.0),(4.0, 70.0)])  )"
   ]
  },
  {
   "cell_type": "markdown",
   "id": "8db35f29-b5f5-4fbd-860d-1e375b1424fe",
   "metadata": {},
   "source": [
    "---\n",
    "- PROFISSAO:"
   ]
  },
  {
   "cell_type": "code",
   "execution_count": 63,
   "id": "c5860fd7-beb0-4243-b022-ee0b51993b8a",
   "metadata": {},
   "outputs": [
    {
     "data": {
      "text/plain": [
       "2     1883\n",
       "3     1479\n",
       "1     1407\n",
       "50    1388\n",
       "10     620\n",
       "6      287\n",
       "4      126\n",
       "51      83\n",
       "5       30\n",
       "30      17\n",
       "Name: PROFISSAO, dtype: int64"
      ]
     },
     "execution_count": 63,
     "metadata": {},
     "output_type": "execute_result"
    }
   ],
   "source": [
    "dados['PROFISSAO'].value_counts()"
   ]
  },
  {
   "cell_type": "code",
   "execution_count": 177,
   "id": "aff43ecd-112d-4116-bb15-c372f27cafd0",
   "metadata": {},
   "outputs": [
    {
     "data": {
      "text/html": [
       "<div>\n",
       "<style scoped>\n",
       "    .dataframe tbody tr th:only-of-type {\n",
       "        vertical-align: middle;\n",
       "    }\n",
       "\n",
       "    .dataframe tbody tr th {\n",
       "        vertical-align: top;\n",
       "    }\n",
       "\n",
       "    .dataframe thead th {\n",
       "        text-align: right;\n",
       "    }\n",
       "</style>\n",
       "<table border=\"1\" class=\"dataframe\">\n",
       "  <thead>\n",
       "    <tr style=\"text-align: right;\">\n",
       "      <th>MAU</th>\n",
       "      <th>0</th>\n",
       "      <th>1</th>\n",
       "    </tr>\n",
       "    <tr>\n",
       "      <th>PROFISSAO</th>\n",
       "      <th></th>\n",
       "      <th></th>\n",
       "    </tr>\n",
       "  </thead>\n",
       "  <tbody>\n",
       "    <tr>\n",
       "      <th>5</th>\n",
       "      <td>0.866667</td>\n",
       "      <td>0.133333</td>\n",
       "    </tr>\n",
       "    <tr>\n",
       "      <th>51</th>\n",
       "      <td>0.734940</td>\n",
       "      <td>0.265060</td>\n",
       "    </tr>\n",
       "    <tr>\n",
       "      <th>1</th>\n",
       "      <td>0.721393</td>\n",
       "      <td>0.278607</td>\n",
       "    </tr>\n",
       "    <tr>\n",
       "      <th>2</th>\n",
       "      <td>0.707913</td>\n",
       "      <td>0.292087</td>\n",
       "    </tr>\n",
       "    <tr>\n",
       "      <th>4</th>\n",
       "      <td>0.706349</td>\n",
       "      <td>0.293651</td>\n",
       "    </tr>\n",
       "    <tr>\n",
       "      <th>6</th>\n",
       "      <td>0.689895</td>\n",
       "      <td>0.310105</td>\n",
       "    </tr>\n",
       "    <tr>\n",
       "      <th>50</th>\n",
       "      <td>0.688040</td>\n",
       "      <td>0.311960</td>\n",
       "    </tr>\n",
       "    <tr>\n",
       "      <th>3</th>\n",
       "      <td>0.671400</td>\n",
       "      <td>0.328600</td>\n",
       "    </tr>\n",
       "    <tr>\n",
       "      <th>10</th>\n",
       "      <td>0.664516</td>\n",
       "      <td>0.335484</td>\n",
       "    </tr>\n",
       "    <tr>\n",
       "      <th>30</th>\n",
       "      <td>0.647059</td>\n",
       "      <td>0.352941</td>\n",
       "    </tr>\n",
       "  </tbody>\n",
       "</table>\n",
       "</div>"
      ],
      "text/plain": [
       "MAU               0         1\n",
       "PROFISSAO                    \n",
       "5          0.866667  0.133333\n",
       "51         0.734940  0.265060\n",
       "1          0.721393  0.278607\n",
       "2          0.707913  0.292087\n",
       "4          0.706349  0.293651\n",
       "6          0.689895  0.310105\n",
       "50         0.688040  0.311960\n",
       "3          0.671400  0.328600\n",
       "10         0.664516  0.335484\n",
       "30         0.647059  0.352941"
      ]
     },
     "execution_count": 177,
     "metadata": {},
     "output_type": "execute_result"
    }
   ],
   "source": [
    "pd.crosstab( dados['PROFISSAO'] , dados['MAU'], normalize='index').sort_values(by=1)"
   ]
  },
  {
   "cell_type": "markdown",
   "id": "b5b60fbf-c2ea-41f7-8b9d-a316aa510626",
   "metadata": {},
   "source": [
    "Regra agrupamento PROFISSAO:"
   ]
  },
  {
   "cell_type": "code",
   "execution_count": 179,
   "id": "d0e2bb91-5a29-43ff-9289-81c568de9329",
   "metadata": {},
   "outputs": [],
   "source": [
    "grupo1_prof = [5,51,1]\n",
    "grupo2_prof = [2,4,6,50]\n",
    "grupo3_prof = [3,10,30]"
   ]
  },
  {
   "cell_type": "code",
   "execution_count": 227,
   "id": "36981ad0-f048-4e7f-b2fb-09ce05791f31",
   "metadata": {},
   "outputs": [],
   "source": [
    "dados.loc[ dados['PROFISSAO'].isin( grupo1_prof ) , \"PROFISSAO2\"] = 0\n",
    "dados.loc[ dados['PROFISSAO'].isin( grupo2_prof ) , \"PROFISSAO2\"] = 1\n",
    "dados.loc[ dados['PROFISSAO'].isin( grupo3_prof ) , \"PROFISSAO2\"] = 2"
   ]
  },
  {
   "cell_type": "code",
   "execution_count": 228,
   "id": "294ccf09-3e63-4aab-9b05-d7cae1ab5d92",
   "metadata": {},
   "outputs": [
    {
     "data": {
      "text/plain": [
       "<Axes: xlabel='PROFISSAO2', ylabel='count'>"
      ]
     },
     "execution_count": 228,
     "metadata": {},
     "output_type": "execute_result"
    },
    {
     "data": {
      "image/png": "[encoded data removed]",
      "text/plain": [
       "<Figure size 500x400 with 1 Axes>"
      ]
     },
     "metadata": {},
     "output_type": "display_data"
    }
   ],
   "source": [
    "fig, ax = plt.subplots(figsize=(5,4))\n",
    "sns.countplot(  x= dados['PROFISSAO2'] , ax=ax )"
   ]
  },
  {
   "cell_type": "code",
   "execution_count": 229,
   "id": "68c55ffb-0e27-4dd9-8592-d71655d1f612",
   "metadata": {},
   "outputs": [
    {
     "data": {
      "text/html": [
       "<div>\n",
       "<style scoped>\n",
       "    .dataframe tbody tr th:only-of-type {\n",
       "        vertical-align: middle;\n",
       "    }\n",
       "\n",
       "    .dataframe tbody tr th {\n",
       "        vertical-align: top;\n",
       "    }\n",
       "\n",
       "    .dataframe thead th {\n",
       "        text-align: right;\n",
       "    }\n",
       "</style>\n",
       "<table border=\"1\" class=\"dataframe\">\n",
       "  <thead>\n",
       "    <tr style=\"text-align: right;\">\n",
       "      <th>MAU</th>\n",
       "      <th>0</th>\n",
       "      <th>1</th>\n",
       "    </tr>\n",
       "    <tr>\n",
       "      <th>PROFISSAO2</th>\n",
       "      <th></th>\n",
       "      <th></th>\n",
       "    </tr>\n",
       "  </thead>\n",
       "  <tbody>\n",
       "    <tr>\n",
       "      <th>0.0</th>\n",
       "      <td>0.725000</td>\n",
       "      <td>0.275000</td>\n",
       "    </tr>\n",
       "    <tr>\n",
       "      <th>1.0</th>\n",
       "      <td>0.698969</td>\n",
       "      <td>0.301031</td>\n",
       "    </tr>\n",
       "    <tr>\n",
       "      <th>2.0</th>\n",
       "      <td>0.669187</td>\n",
       "      <td>0.330813</td>\n",
       "    </tr>\n",
       "  </tbody>\n",
       "</table>\n",
       "</div>"
      ],
      "text/plain": [
       "MAU                0         1\n",
       "PROFISSAO2                    \n",
       "0.0         0.725000  0.275000\n",
       "1.0         0.698969  0.301031\n",
       "2.0         0.669187  0.330813"
      ]
     },
     "execution_count": 229,
     "metadata": {},
     "output_type": "execute_result"
    }
   ],
   "source": [
    "pd.crosstab( dados['PROFISSAO2'] , dados['MAU'] , normalize = 'index')"
   ]
  },
  {
   "cell_type": "markdown",
   "id": "92cd18eb-7711-45c9-ac4e-4b6b82beac9f",
   "metadata": {},
   "source": [
    "---\n",
    "- CEP:"
   ]
  },
  {
   "cell_type": "code",
   "execution_count": 183,
   "id": "8d7b88b1-5da0-47f5-abf9-d78998b537d9",
   "metadata": {},
   "outputs": [
    {
     "data": {
      "text/plain": [
       "<Axes: xlabel='CEP', ylabel='count'>"
      ]
     },
     "execution_count": 183,
     "metadata": {},
     "output_type": "execute_result"
    },
    {
     "data": {
      "image/png": "[encoded data removed]",
      "text/plain": [
       "<Figure size 1200x400 with 1 Axes>"
      ]
     },
     "metadata": {},
     "output_type": "display_data"
    }
   ],
   "source": [
    "fig, ax = plt.subplots(figsize=(12,4))\n",
    "sns.countplot(  x= dados['CEP'], ax=ax )"
   ]
  },
  {
   "cell_type": "code",
   "execution_count": 75,
   "id": "eecd32f1-aca4-458d-8285-8bb6756078f4",
   "metadata": {},
   "outputs": [
    {
     "data": {
      "text/html": [
       "<div>\n",
       "<style scoped>\n",
       "    .dataframe tbody tr th:only-of-type {\n",
       "        vertical-align: middle;\n",
       "    }\n",
       "\n",
       "    .dataframe tbody tr th {\n",
       "        vertical-align: top;\n",
       "    }\n",
       "\n",
       "    .dataframe thead th {\n",
       "        text-align: right;\n",
       "    }\n",
       "</style>\n",
       "<table border=\"1\" class=\"dataframe\">\n",
       "  <thead>\n",
       "    <tr style=\"text-align: right;\">\n",
       "      <th>MAU</th>\n",
       "      <th>0</th>\n",
       "      <th>1</th>\n",
       "    </tr>\n",
       "    <tr>\n",
       "      <th>CEP</th>\n",
       "      <th></th>\n",
       "      <th></th>\n",
       "    </tr>\n",
       "  </thead>\n",
       "  <tbody>\n",
       "    <tr>\n",
       "      <th>71</th>\n",
       "      <td>1.000000</td>\n",
       "      <td>0.000000</td>\n",
       "    </tr>\n",
       "    <tr>\n",
       "      <th>60</th>\n",
       "      <td>1.000000</td>\n",
       "      <td>0.000000</td>\n",
       "    </tr>\n",
       "    <tr>\n",
       "      <th>54</th>\n",
       "      <td>1.000000</td>\n",
       "      <td>0.000000</td>\n",
       "    </tr>\n",
       "    <tr>\n",
       "      <th>84</th>\n",
       "      <td>1.000000</td>\n",
       "      <td>0.000000</td>\n",
       "    </tr>\n",
       "    <tr>\n",
       "      <th>87</th>\n",
       "      <td>0.888889</td>\n",
       "      <td>0.111111</td>\n",
       "    </tr>\n",
       "    <tr>\n",
       "      <th>...</th>\n",
       "      <td>...</td>\n",
       "      <td>...</td>\n",
       "    </tr>\n",
       "    <tr>\n",
       "      <th>80</th>\n",
       "      <td>0.500000</td>\n",
       "      <td>0.500000</td>\n",
       "    </tr>\n",
       "    <tr>\n",
       "      <th>0</th>\n",
       "      <td>0.500000</td>\n",
       "      <td>0.500000</td>\n",
       "    </tr>\n",
       "    <tr>\n",
       "      <th>38</th>\n",
       "      <td>0.488889</td>\n",
       "      <td>0.511111</td>\n",
       "    </tr>\n",
       "    <tr>\n",
       "      <th>78</th>\n",
       "      <td>0.428571</td>\n",
       "      <td>0.571429</td>\n",
       "    </tr>\n",
       "    <tr>\n",
       "      <th>15</th>\n",
       "      <td>0.416667</td>\n",
       "      <td>0.583333</td>\n",
       "    </tr>\n",
       "  </tbody>\n",
       "</table>\n",
       "<p>67 rows × 2 columns</p>\n",
       "</div>"
      ],
      "text/plain": [
       "MAU         0         1\n",
       "CEP                    \n",
       "71   1.000000  0.000000\n",
       "60   1.000000  0.000000\n",
       "54   1.000000  0.000000\n",
       "84   1.000000  0.000000\n",
       "87   0.888889  0.111111\n",
       "..        ...       ...\n",
       "80   0.500000  0.500000\n",
       "0    0.500000  0.500000\n",
       "38   0.488889  0.511111\n",
       "78   0.428571  0.571429\n",
       "15   0.416667  0.583333\n",
       "\n",
       "[67 rows x 2 columns]"
      ]
     },
     "execution_count": 75,
     "metadata": {},
     "output_type": "execute_result"
    }
   ],
   "source": [
    "pd.crosstab( dados['CEP'] , dados['MAU'], normalize='index').sort_values(by=1)"
   ]
  },
  {
   "cell_type": "code",
   "execution_count": 76,
   "id": "60ee0c67-796d-4580-b4a7-ce754cff1b2d",
   "metadata": {},
   "outputs": [
    {
     "data": {
      "text/plain": [
       "Int64Index([71, 60, 54, 84, 87, 85, 73, 82, 21, 26, 24, 23, 22, 34,  9, 32, 36,\n",
       "            81, 30, 20, 19, 83, 31, 35, 27, 33, 89,  6, 25,  5, 28, 95, 70, 39,\n",
       "             4, 12, 74, 90, 99, 88, 97, 29, 91, 96,  8, 72, 94, 92, 16, 18,  3,\n",
       "            37, 75, 93, 86,  2, 13,  7, 17,  1, 14, 11, 80,  0, 38, 78, 15],\n",
       "           dtype='int64', name='CEP')"
      ]
     },
     "execution_count": 76,
     "metadata": {},
     "output_type": "execute_result"
    }
   ],
   "source": [
    "pd.crosstab( dados['CEP'] , dados['MAU'], normalize='index').sort_values(by=1).index"
   ]
  },
  {
   "cell_type": "markdown",
   "id": "35265371-ae92-447d-8370-068a472e45ce",
   "metadata": {},
   "source": [
    "Regra agrupamento CEP:"
   ]
  },
  {
   "cell_type": "code",
   "execution_count": 79,
   "id": "c9d9054f-7fa6-4917-81d8-bb7973f42031",
   "metadata": {},
   "outputs": [],
   "source": [
    "grupo1_cep = pd.crosstab( dados['CEP'] , dados['MAU'], normalize='index').sort_values(by=1).index[:22]"
   ]
  },
  {
   "cell_type": "code",
   "execution_count": 80,
   "id": "29baa91b-97e9-46ec-9932-2d612f530a72",
   "metadata": {},
   "outputs": [
    {
     "name": "stdout",
     "output_type": "stream",
     "text": [
      "Int64Index([71, 60, 54, 84, 87, 85, 73, 82, 21, 26, 24, 23, 22, 34,  9, 32, 36,\n",
      "            81, 30, 20, 19, 83],\n",
      "           dtype='int64', name='CEP')\n"
     ]
    }
   ],
   "source": [
    "print(grupo1_cep)"
   ]
  },
  {
   "cell_type": "code",
   "execution_count": 81,
   "id": "f703b189-40d7-40a5-8dca-96268320fe61",
   "metadata": {},
   "outputs": [],
   "source": [
    "grupo2_cep = pd.crosstab( dados['CEP'] , dados['MAU'], normalize='index').sort_values(by=1).index[22:44]"
   ]
  },
  {
   "cell_type": "code",
   "execution_count": 82,
   "id": "b83068af-50f9-4ed0-b7ed-447e4757f06d",
   "metadata": {},
   "outputs": [
    {
     "name": "stdout",
     "output_type": "stream",
     "text": [
      "Int64Index([31, 35, 27, 33, 89,  6, 25,  5, 28, 95, 70, 39,  4, 12, 74, 90, 99,\n",
      "            88, 97, 29, 91, 96],\n",
      "           dtype='int64', name='CEP')\n"
     ]
    }
   ],
   "source": [
    "print(grupo2_cep)"
   ]
  },
  {
   "cell_type": "code",
   "execution_count": 83,
   "id": "57e93fb2-642e-473b-97b8-a33e2825eb95",
   "metadata": {},
   "outputs": [],
   "source": [
    "grupo3_cep = pd.crosstab( dados['CEP'] , dados['MAU'], normalize='index').sort_values(by=1).index[44:]"
   ]
  },
  {
   "cell_type": "code",
   "execution_count": 84,
   "id": "3f1ce924-042d-4a06-9cf6-5d24b7c8edcd",
   "metadata": {},
   "outputs": [
    {
     "name": "stdout",
     "output_type": "stream",
     "text": [
      "Int64Index([ 8, 72, 94, 92, 16, 18,  3, 37, 75, 93, 86,  2, 13,  7, 17,  1, 14,\n",
      "            11, 80,  0, 38, 78, 15],\n",
      "           dtype='int64', name='CEP')\n"
     ]
    }
   ],
   "source": [
    "print(grupo3_cep)"
   ]
  },
  {
   "cell_type": "code",
   "execution_count": 90,
   "id": "3b033977-4325-4f2b-a1a9-a28e51f60e84",
   "metadata": {},
   "outputs": [],
   "source": [
    "dados.loc[dados['CEP'].isin(grupo1_cep),'CEP2'] = 0\n",
    "dados.loc[dados['CEP'].isin(grupo2_cep),'CEP2'] = 1\n",
    "dados.loc[dados['CEP'].isin(grupo3_cep),'CEP2'] = 2"
   ]
  },
  {
   "cell_type": "code",
   "execution_count": 178,
   "id": "fd41164d-7af2-462e-bc7c-cca5585300a1",
   "metadata": {},
   "outputs": [
    {
     "data": {
      "text/plain": [
       "<Axes: xlabel='CEP2', ylabel='count'>"
      ]
     },
     "execution_count": 178,
     "metadata": {},
     "output_type": "execute_result"
    },
    {
     "data": {
      "image/png": "[encoded data removed]",
      "text/plain": [
       "<Figure size 500x400 with 1 Axes>"
      ]
     },
     "metadata": {},
     "output_type": "display_data"
    }
   ],
   "source": [
    "fig, ax = plt.subplots(figsize=(5,4))\n",
    "sns.countplot(  x= dados['CEP2'], ax=ax )"
   ]
  },
  {
   "cell_type": "code",
   "execution_count": 102,
   "id": "57fcdbd3-9c4f-4b11-a61e-fd70c831f4af",
   "metadata": {},
   "outputs": [
    {
     "data": {
      "text/html": [
       "<div>\n",
       "<style scoped>\n",
       "    .dataframe tbody tr th:only-of-type {\n",
       "        vertical-align: middle;\n",
       "    }\n",
       "\n",
       "    .dataframe tbody tr th {\n",
       "        vertical-align: top;\n",
       "    }\n",
       "\n",
       "    .dataframe thead th {\n",
       "        text-align: right;\n",
       "    }\n",
       "</style>\n",
       "<table border=\"1\" class=\"dataframe\">\n",
       "  <thead>\n",
       "    <tr style=\"text-align: right;\">\n",
       "      <th>MAU</th>\n",
       "      <th>0</th>\n",
       "      <th>1</th>\n",
       "    </tr>\n",
       "    <tr>\n",
       "      <th>CEP2</th>\n",
       "      <th></th>\n",
       "      <th></th>\n",
       "    </tr>\n",
       "  </thead>\n",
       "  <tbody>\n",
       "    <tr>\n",
       "      <th>0.0</th>\n",
       "      <td>0.750484</td>\n",
       "      <td>0.249516</td>\n",
       "    </tr>\n",
       "    <tr>\n",
       "      <th>1.0</th>\n",
       "      <td>0.683702</td>\n",
       "      <td>0.316298</td>\n",
       "    </tr>\n",
       "    <tr>\n",
       "      <th>2.0</th>\n",
       "      <td>0.593797</td>\n",
       "      <td>0.406203</td>\n",
       "    </tr>\n",
       "  </tbody>\n",
       "</table>\n",
       "</div>"
      ],
      "text/plain": [
       "MAU          0         1\n",
       "CEP2                    \n",
       "0.0   0.750484  0.249516\n",
       "1.0   0.683702  0.316298\n",
       "2.0   0.593797  0.406203"
      ]
     },
     "execution_count": 102,
     "metadata": {},
     "output_type": "execute_result"
    }
   ],
   "source": [
    "pd.crosstab( dados['CEP2'] , dados['MAU'], normalize='index')"
   ]
  },
  {
   "cell_type": "code",
   "execution_count": null,
   "id": "6f6d8cef-8031-4dfa-918a-858d9dbe8375",
   "metadata": {},
   "outputs": [],
   "source": []
  },
  {
   "cell_type": "markdown",
   "id": "711ae516-cd29-403f-8c2c-b257a3c42b25",
   "metadata": {},
   "source": [
    "---\n",
    "### Transformação das features em dummies"
   ]
  },
  {
   "cell_type": "markdown",
   "id": "56c71d7a-ea14-45f8-8e51-b4042b13c13d",
   "metadata": {},
   "source": [
    "Para facilitar o processo, optou-se por transformar todas as features candidatas em dummies."
   ]
  },
  {
   "cell_type": "code",
   "execution_count": null,
   "id": "31011ad5-4e61-4172-8d7c-d3f81d6267f0",
   "metadata": {},
   "outputs": [],
   "source": []
  },
  {
   "cell_type": "code",
   "execution_count": 265,
   "id": "220c63ca-14f7-4beb-850d-4794fa63d3ff",
   "metadata": {},
   "outputs": [],
   "source": [
    "colunas_finais = ['TPCLIENT','LOCALIZA2','TPEMPREG2','SEXO','ESTCIVIL2','SITRESID','LIMITE2','TEMPORES2','CEP2','PROFISSAO2','ANONASCI2','MAU']"
   ]
  },
  {
   "cell_type": "code",
   "execution_count": 274,
   "id": "9a1a7ffa-bf56-4d43-bc93-2b120cdefc1f",
   "metadata": {},
   "outputs": [],
   "source": [
    "dados_final = dados[colunas_finais]"
   ]
  },
  {
   "cell_type": "code",
   "execution_count": 281,
   "id": "6b4c8353-7cf1-49d5-ba47-210c76d8bb71",
   "metadata": {},
   "outputs": [
    {
     "data": {
      "text/html": [
       "<div>\n",
       "<style scoped>\n",
       "    .dataframe tbody tr th:only-of-type {\n",
       "        vertical-align: middle;\n",
       "    }\n",
       "\n",
       "    .dataframe tbody tr th {\n",
       "        vertical-align: top;\n",
       "    }\n",
       "\n",
       "    .dataframe thead th {\n",
       "        text-align: right;\n",
       "    }\n",
       "</style>\n",
       "<table border=\"1\" class=\"dataframe\">\n",
       "  <thead>\n",
       "    <tr style=\"text-align: right;\">\n",
       "      <th></th>\n",
       "      <th>TPCLIENT</th>\n",
       "      <th>LOCALIZA2</th>\n",
       "      <th>TPEMPREG2</th>\n",
       "      <th>SEXO</th>\n",
       "      <th>ESTCIVIL2</th>\n",
       "      <th>SITRESID</th>\n",
       "      <th>LIMITE2</th>\n",
       "      <th>TEMPORES2</th>\n",
       "      <th>CEP2</th>\n",
       "      <th>PROFISSAO2</th>\n",
       "      <th>ANONASCI2</th>\n",
       "      <th>MAU</th>\n",
       "    </tr>\n",
       "  </thead>\n",
       "  <tbody>\n",
       "    <tr>\n",
       "      <th>7315</th>\n",
       "      <td>1</td>\n",
       "      <td>2.0</td>\n",
       "      <td>(32.0, 130.0]</td>\n",
       "      <td>M</td>\n",
       "      <td>1.0</td>\n",
       "      <td>P</td>\n",
       "      <td>(31.0, 118.0]</td>\n",
       "      <td>(4.0, 70.0]</td>\n",
       "      <td>1.0</td>\n",
       "      <td>2.0</td>\n",
       "      <td>(63.0, 74.0]</td>\n",
       "      <td>1</td>\n",
       "    </tr>\n",
       "    <tr>\n",
       "      <th>7316</th>\n",
       "      <td>1</td>\n",
       "      <td>2.0</td>\n",
       "      <td>(32.0, 130.0]</td>\n",
       "      <td>F</td>\n",
       "      <td>1.0</td>\n",
       "      <td>P</td>\n",
       "      <td>(-0.001, 31.0]</td>\n",
       "      <td>(-0.001, 4.0]</td>\n",
       "      <td>1.0</td>\n",
       "      <td>2.0</td>\n",
       "      <td>(63.0, 74.0]</td>\n",
       "      <td>0</td>\n",
       "    </tr>\n",
       "    <tr>\n",
       "      <th>7317</th>\n",
       "      <td>1</td>\n",
       "      <td>2.0</td>\n",
       "      <td>(130.0, 628.0]</td>\n",
       "      <td>M</td>\n",
       "      <td>1.0</td>\n",
       "      <td>P</td>\n",
       "      <td>(31.0, 118.0]</td>\n",
       "      <td>(-0.001, 4.0]</td>\n",
       "      <td>1.0</td>\n",
       "      <td>1.0</td>\n",
       "      <td>(50.0, 63.0]</td>\n",
       "      <td>0</td>\n",
       "    </tr>\n",
       "    <tr>\n",
       "      <th>7318</th>\n",
       "      <td>1</td>\n",
       "      <td>2.0</td>\n",
       "      <td>(-0.001, 32.0]</td>\n",
       "      <td>M</td>\n",
       "      <td>1.0</td>\n",
       "      <td>P</td>\n",
       "      <td>(31.0, 118.0]</td>\n",
       "      <td>(4.0, 70.0]</td>\n",
       "      <td>1.0</td>\n",
       "      <td>0.0</td>\n",
       "      <td>(63.0, 74.0]</td>\n",
       "      <td>0</td>\n",
       "    </tr>\n",
       "    <tr>\n",
       "      <th>7319</th>\n",
       "      <td>1</td>\n",
       "      <td>2.0</td>\n",
       "      <td>(-0.001, 32.0]</td>\n",
       "      <td>M</td>\n",
       "      <td>0.0</td>\n",
       "      <td>A</td>\n",
       "      <td>(31.0, 118.0]</td>\n",
       "      <td>(-0.001, 4.0]</td>\n",
       "      <td>1.0</td>\n",
       "      <td>0.0</td>\n",
       "      <td>(74.0, 87.0]</td>\n",
       "      <td>1</td>\n",
       "    </tr>\n",
       "  </tbody>\n",
       "</table>\n",
       "</div>"
      ],
      "text/plain": [
       "     TPCLIENT LOCALIZA2       TPEMPREG2 SEXO ESTCIVIL2 SITRESID  \\\n",
       "7315        1       2.0   (32.0, 130.0]    M       1.0        P   \n",
       "7316        1       2.0   (32.0, 130.0]    F       1.0        P   \n",
       "7317        1       2.0  (130.0, 628.0]    M       1.0        P   \n",
       "7318        1       2.0  (-0.001, 32.0]    M       1.0        P   \n",
       "7319        1       2.0  (-0.001, 32.0]    M       0.0        A   \n",
       "\n",
       "             LIMITE2      TEMPORES2 CEP2 PROFISSAO2     ANONASCI2  MAU  \n",
       "7315   (31.0, 118.0]    (4.0, 70.0]  1.0        2.0  (63.0, 74.0]    1  \n",
       "7316  (-0.001, 31.0]  (-0.001, 4.0]  1.0        2.0  (63.0, 74.0]    0  \n",
       "7317   (31.0, 118.0]  (-0.001, 4.0]  1.0        1.0  (50.0, 63.0]    0  \n",
       "7318   (31.0, 118.0]    (4.0, 70.0]  1.0        0.0  (63.0, 74.0]    0  \n",
       "7319   (31.0, 118.0]  (-0.001, 4.0]  1.0        0.0  (74.0, 87.0]    1  "
      ]
     },
     "execution_count": 281,
     "metadata": {},
     "output_type": "execute_result"
    }
   ],
   "source": [
    "dados_final.tail()"
   ]
  },
  {
   "cell_type": "code",
   "execution_count": 279,
   "id": "d9a2b4e5-ee2c-43bc-95ce-f4847d65d97a",
   "metadata": {},
   "outputs": [
    {
     "name": "stderr",
     "output_type": "stream",
     "text": [
      "C:\\Users\\herli\\AppData\\Local\\Temp\\ipykernel_4380\\2927854579.py:1: SettingWithCopyWarning: \n",
      "A value is trying to be set on a copy of a slice from a DataFrame.\n",
      "Try using .loc[row_indexer,col_indexer] = value instead\n",
      "\n",
      "See the caveats in the documentation: https://pandas.pydata.org/pandas-docs/stable/user_guide/indexing.html#returning-a-view-versus-a-copy\n",
      "  dados_final['TPCLIENT'] = dados_final['TPCLIENT'].astype('category')\n",
      "C:\\Users\\herli\\AppData\\Local\\Temp\\ipykernel_4380\\2927854579.py:2: SettingWithCopyWarning: \n",
      "A value is trying to be set on a copy of a slice from a DataFrame.\n",
      "Try using .loc[row_indexer,col_indexer] = value instead\n",
      "\n",
      "See the caveats in the documentation: https://pandas.pydata.org/pandas-docs/stable/user_guide/indexing.html#returning-a-view-versus-a-copy\n",
      "  dados_final['LOCALIZA2'] = dados_final['LOCALIZA2'].astype('category')\n",
      "C:\\Users\\herli\\AppData\\Local\\Temp\\ipykernel_4380\\2927854579.py:3: SettingWithCopyWarning: \n",
      "A value is trying to be set on a copy of a slice from a DataFrame.\n",
      "Try using .loc[row_indexer,col_indexer] = value instead\n",
      "\n",
      "See the caveats in the documentation: https://pandas.pydata.org/pandas-docs/stable/user_guide/indexing.html#returning-a-view-versus-a-copy\n",
      "  dados_final['ESTCIVIL2'] = dados_final['ESTCIVIL2'].astype('category')\n",
      "C:\\Users\\herli\\AppData\\Local\\Temp\\ipykernel_4380\\2927854579.py:4: SettingWithCopyWarning: \n",
      "A value is trying to be set on a copy of a slice from a DataFrame.\n",
      "Try using .loc[row_indexer,col_indexer] = value instead\n",
      "\n",
      "See the caveats in the documentation: https://pandas.pydata.org/pandas-docs/stable/user_guide/indexing.html#returning-a-view-versus-a-copy\n",
      "  dados_final['CEP2'] = dados_final['CEP2'].astype('category')\n",
      "C:\\Users\\herli\\AppData\\Local\\Temp\\ipykernel_4380\\2927854579.py:5: SettingWithCopyWarning: \n",
      "A value is trying to be set on a copy of a slice from a DataFrame.\n",
      "Try using .loc[row_indexer,col_indexer] = value instead\n",
      "\n",
      "See the caveats in the documentation: https://pandas.pydata.org/pandas-docs/stable/user_guide/indexing.html#returning-a-view-versus-a-copy\n",
      "  dados_final['PROFISSAO2'] = dados_final['PROFISSAO2'].astype('category')\n"
     ]
    }
   ],
   "source": [
    "dados_final['TPCLIENT'] = dados_final['TPCLIENT'].astype('category')\n",
    "dados_final['LOCALIZA2'] = dados_final['LOCALIZA2'].astype('category')\n",
    "dados_final['ESTCIVIL2'] = dados_final['ESTCIVIL2'].astype('category')\n",
    "dados_final['CEP2'] = dados_final['CEP2'].astype('category')\n",
    "dados_final['PROFISSAO2'] = dados_final['PROFISSAO2'].astype('category')"
   ]
  },
  {
   "cell_type": "code",
   "execution_count": 285,
   "id": "f5283a31-414d-4b26-856f-7e111532ca5c",
   "metadata": {},
   "outputs": [],
   "source": [
    "dados_final = pd.get_dummies( dados_final , drop_first=True)"
   ]
  },
  {
   "cell_type": "code",
   "execution_count": 283,
   "id": "64f9ae54-9b35-4106-9398-142cc3a2b9ed",
   "metadata": {},
   "outputs": [
    {
     "data": {
      "text/html": [
       "<div>\n",
       "<style scoped>\n",
       "    .dataframe tbody tr th:only-of-type {\n",
       "        vertical-align: middle;\n",
       "    }\n",
       "\n",
       "    .dataframe tbody tr th {\n",
       "        vertical-align: top;\n",
       "    }\n",
       "\n",
       "    .dataframe thead th {\n",
       "        text-align: right;\n",
       "    }\n",
       "</style>\n",
       "<table border=\"1\" class=\"dataframe\">\n",
       "  <thead>\n",
       "    <tr style=\"text-align: right;\">\n",
       "      <th></th>\n",
       "      <th>MAU</th>\n",
       "      <th>TPCLIENT_2</th>\n",
       "      <th>LOCALIZA2_1.0</th>\n",
       "      <th>LOCALIZA2_2.0</th>\n",
       "      <th>TPEMPREG2_(32.0, 130.0]</th>\n",
       "      <th>TPEMPREG2_(130.0, 628.0]</th>\n",
       "      <th>SEXO_M</th>\n",
       "      <th>ESTCIVIL2_1.0</th>\n",
       "      <th>ESTCIVIL2_2.0</th>\n",
       "      <th>SITRESID_P</th>\n",
       "      <th>LIMITE2_(31.0, 118.0]</th>\n",
       "      <th>LIMITE2_(118.0, 99865.0]</th>\n",
       "      <th>TEMPORES2_(4.0, 70.0]</th>\n",
       "      <th>CEP2_1.0</th>\n",
       "      <th>CEP2_2.0</th>\n",
       "      <th>PROFISSAO2_1.0</th>\n",
       "      <th>PROFISSAO2_2.0</th>\n",
       "      <th>ANONASCI2_(50.0, 63.0]</th>\n",
       "      <th>ANONASCI2_(63.0, 74.0]</th>\n",
       "      <th>ANONASCI2_(74.0, 87.0]</th>\n",
       "    </tr>\n",
       "  </thead>\n",
       "  <tbody>\n",
       "    <tr>\n",
       "      <th>MAU</th>\n",
       "      <td>1.000000</td>\n",
       "      <td>-0.120466</td>\n",
       "      <td>-0.001867</td>\n",
       "      <td>0.195547</td>\n",
       "      <td>-0.027201</td>\n",
       "      <td>-0.125534</td>\n",
       "      <td>0.068714</td>\n",
       "      <td>-0.072515</td>\n",
       "      <td>-0.042649</td>\n",
       "      <td>-0.052699</td>\n",
       "      <td>-0.005745</td>\n",
       "      <td>-0.072320</td>\n",
       "      <td>-0.040572</td>\n",
       "      <td>0.021214</td>\n",
       "      <td>0.104049</td>\n",
       "      <td>-0.007009</td>\n",
       "      <td>0.036836</td>\n",
       "      <td>-0.045070</td>\n",
       "      <td>0.007142</td>\n",
       "      <td>0.188128</td>\n",
       "    </tr>\n",
       "    <tr>\n",
       "      <th>TPCLIENT_2</th>\n",
       "      <td>-0.120466</td>\n",
       "      <td>1.000000</td>\n",
       "      <td>0.040143</td>\n",
       "      <td>-0.154698</td>\n",
       "      <td>0.137907</td>\n",
       "      <td>0.045157</td>\n",
       "      <td>-0.051900</td>\n",
       "      <td>0.033545</td>\n",
       "      <td>-0.016819</td>\n",
       "      <td>0.034693</td>\n",
       "      <td>-0.031620</td>\n",
       "      <td>0.231422</td>\n",
       "      <td>-0.098655</td>\n",
       "      <td>-0.074117</td>\n",
       "      <td>-0.151077</td>\n",
       "      <td>-0.010654</td>\n",
       "      <td>-0.002897</td>\n",
       "      <td>0.037568</td>\n",
       "      <td>0.015595</td>\n",
       "      <td>-0.088857</td>\n",
       "    </tr>\n",
       "    <tr>\n",
       "      <th>LOCALIZA2_1.0</th>\n",
       "      <td>-0.001867</td>\n",
       "      <td>0.040143</td>\n",
       "      <td>1.000000</td>\n",
       "      <td>-0.503069</td>\n",
       "      <td>-0.006301</td>\n",
       "      <td>0.007765</td>\n",
       "      <td>0.008748</td>\n",
       "      <td>-0.011748</td>\n",
       "      <td>-0.011770</td>\n",
       "      <td>0.015178</td>\n",
       "      <td>0.022378</td>\n",
       "      <td>0.000277</td>\n",
       "      <td>0.011876</td>\n",
       "      <td>0.187693</td>\n",
       "      <td>-0.122801</td>\n",
       "      <td>0.005253</td>\n",
       "      <td>0.017796</td>\n",
       "      <td>0.011775</td>\n",
       "      <td>0.004329</td>\n",
       "      <td>0.002873</td>\n",
       "    </tr>\n",
       "    <tr>\n",
       "      <th>LOCALIZA2_2.0</th>\n",
       "      <td>0.195547</td>\n",
       "      <td>-0.154698</td>\n",
       "      <td>-0.503069</td>\n",
       "      <td>1.000000</td>\n",
       "      <td>-0.030266</td>\n",
       "      <td>-0.055162</td>\n",
       "      <td>0.008059</td>\n",
       "      <td>-0.018965</td>\n",
       "      <td>-0.008074</td>\n",
       "      <td>-0.040230</td>\n",
       "      <td>0.012031</td>\n",
       "      <td>-0.060034</td>\n",
       "      <td>-0.000801</td>\n",
       "      <td>0.014837</td>\n",
       "      <td>0.364181</td>\n",
       "      <td>-0.002167</td>\n",
       "      <td>0.039311</td>\n",
       "      <td>-0.027096</td>\n",
       "      <td>0.007639</td>\n",
       "      <td>0.069267</td>\n",
       "    </tr>\n",
       "    <tr>\n",
       "      <th>TPEMPREG2_(32.0, 130.0]</th>\n",
       "      <td>-0.027201</td>\n",
       "      <td>0.137907</td>\n",
       "      <td>-0.006301</td>\n",
       "      <td>-0.030266</td>\n",
       "      <td>1.000000</td>\n",
       "      <td>-0.573090</td>\n",
       "      <td>-0.043379</td>\n",
       "      <td>0.017040</td>\n",
       "      <td>-0.019243</td>\n",
       "      <td>0.027145</td>\n",
       "      <td>0.010656</td>\n",
       "      <td>0.014673</td>\n",
       "      <td>-0.008759</td>\n",
       "      <td>-0.003574</td>\n",
       "      <td>-0.035641</td>\n",
       "      <td>-0.000275</td>\n",
       "      <td>0.020920</td>\n",
       "      <td>-0.022180</td>\n",
       "      <td>0.083485</td>\n",
       "      <td>-0.036980</td>\n",
       "    </tr>\n",
       "    <tr>\n",
       "      <th>TPEMPREG2_(130.0, 628.0]</th>\n",
       "      <td>-0.125534</td>\n",
       "      <td>0.045157</td>\n",
       "      <td>0.007765</td>\n",
       "      <td>-0.055162</td>\n",
       "      <td>-0.573090</td>\n",
       "      <td>1.000000</td>\n",
       "      <td>-0.049455</td>\n",
       "      <td>0.086236</td>\n",
       "      <td>0.134769</td>\n",
       "      <td>0.061450</td>\n",
       "      <td>-0.043084</td>\n",
       "      <td>0.110462</td>\n",
       "      <td>0.066396</td>\n",
       "      <td>-0.021822</td>\n",
       "      <td>-0.051627</td>\n",
       "      <td>0.026331</td>\n",
       "      <td>-0.048855</td>\n",
       "      <td>0.140392</td>\n",
       "      <td>-0.114738</td>\n",
       "      <td>-0.284141</td>\n",
       "    </tr>\n",
       "    <tr>\n",
       "      <th>SEXO_M</th>\n",
       "      <td>0.068714</td>\n",
       "      <td>-0.051900</td>\n",
       "      <td>0.008748</td>\n",
       "      <td>0.008059</td>\n",
       "      <td>-0.043379</td>\n",
       "      <td>-0.049455</td>\n",
       "      <td>1.000000</td>\n",
       "      <td>0.087043</td>\n",
       "      <td>-0.216470</td>\n",
       "      <td>-0.037728</td>\n",
       "      <td>-0.010767</td>\n",
       "      <td>0.036045</td>\n",
       "      <td>-0.014265</td>\n",
       "      <td>0.011718</td>\n",
       "      <td>0.024863</td>\n",
       "      <td>0.019284</td>\n",
       "      <td>0.037943</td>\n",
       "      <td>-0.040065</td>\n",
       "      <td>0.021996</td>\n",
       "      <td>0.131850</td>\n",
       "    </tr>\n",
       "    <tr>\n",
       "      <th>ESTCIVIL2_1.0</th>\n",
       "      <td>-0.072515</td>\n",
       "      <td>0.033545</td>\n",
       "      <td>-0.011748</td>\n",
       "      <td>-0.018965</td>\n",
       "      <td>0.017040</td>\n",
       "      <td>0.086236</td>\n",
       "      <td>0.087043</td>\n",
       "      <td>1.000000</td>\n",
       "      <td>-0.355312</td>\n",
       "      <td>0.036675</td>\n",
       "      <td>-0.031464</td>\n",
       "      <td>0.071126</td>\n",
       "      <td>0.014888</td>\n",
       "      <td>0.007551</td>\n",
       "      <td>-0.004221</td>\n",
       "      <td>0.006056</td>\n",
       "      <td>-0.010743</td>\n",
       "      <td>0.174126</td>\n",
       "      <td>0.062473</td>\n",
       "      <td>-0.296506</td>\n",
       "    </tr>\n",
       "    <tr>\n",
       "      <th>ESTCIVIL2_2.0</th>\n",
       "      <td>-0.042649</td>\n",
       "      <td>-0.016819</td>\n",
       "      <td>-0.011770</td>\n",
       "      <td>-0.008074</td>\n",
       "      <td>-0.019243</td>\n",
       "      <td>0.134769</td>\n",
       "      <td>-0.216470</td>\n",
       "      <td>-0.355312</td>\n",
       "      <td>1.000000</td>\n",
       "      <td>0.027614</td>\n",
       "      <td>0.015839</td>\n",
       "      <td>-0.012623</td>\n",
       "      <td>0.033364</td>\n",
       "      <td>0.017884</td>\n",
       "      <td>-0.011346</td>\n",
       "      <td>0.018062</td>\n",
       "      <td>-0.033863</td>\n",
       "      <td>-0.047123</td>\n",
       "      <td>-0.147904</td>\n",
       "      <td>-0.166653</td>\n",
       "    </tr>\n",
       "    <tr>\n",
       "      <th>SITRESID_P</th>\n",
       "      <td>-0.052699</td>\n",
       "      <td>0.034693</td>\n",
       "      <td>0.015178</td>\n",
       "      <td>-0.040230</td>\n",
       "      <td>0.027145</td>\n",
       "      <td>0.061450</td>\n",
       "      <td>-0.037728</td>\n",
       "      <td>0.036675</td>\n",
       "      <td>0.027614</td>\n",
       "      <td>1.000000</td>\n",
       "      <td>0.014197</td>\n",
       "      <td>0.000722</td>\n",
       "      <td>0.213440</td>\n",
       "      <td>0.026099</td>\n",
       "      <td>-0.080876</td>\n",
       "      <td>-0.005044</td>\n",
       "      <td>0.008179</td>\n",
       "      <td>0.011606</td>\n",
       "      <td>-0.017867</td>\n",
       "      <td>-0.068378</td>\n",
       "    </tr>\n",
       "    <tr>\n",
       "      <th>LIMITE2_(31.0, 118.0]</th>\n",
       "      <td>-0.005745</td>\n",
       "      <td>-0.031620</td>\n",
       "      <td>0.022378</td>\n",
       "      <td>0.012031</td>\n",
       "      <td>0.010656</td>\n",
       "      <td>-0.043084</td>\n",
       "      <td>-0.010767</td>\n",
       "      <td>-0.031464</td>\n",
       "      <td>0.015839</td>\n",
       "      <td>0.014197</td>\n",
       "      <td>1.000000</td>\n",
       "      <td>-0.576195</td>\n",
       "      <td>0.010671</td>\n",
       "      <td>0.042116</td>\n",
       "      <td>-0.006333</td>\n",
       "      <td>-0.023487</td>\n",
       "      <td>0.022743</td>\n",
       "      <td>0.002531</td>\n",
       "      <td>-0.007655</td>\n",
       "      <td>0.031982</td>\n",
       "    </tr>\n",
       "    <tr>\n",
       "      <th>LIMITE2_(118.0, 99865.0]</th>\n",
       "      <td>-0.072320</td>\n",
       "      <td>0.231422</td>\n",
       "      <td>0.000277</td>\n",
       "      <td>-0.060034</td>\n",
       "      <td>0.014673</td>\n",
       "      <td>0.110462</td>\n",
       "      <td>0.036045</td>\n",
       "      <td>0.071126</td>\n",
       "      <td>-0.012623</td>\n",
       "      <td>0.000722</td>\n",
       "      <td>-0.576195</td>\n",
       "      <td>1.000000</td>\n",
       "      <td>0.004612</td>\n",
       "      <td>-0.075247</td>\n",
       "      <td>-0.041276</td>\n",
       "      <td>0.045758</td>\n",
       "      <td>-0.058269</td>\n",
       "      <td>0.033674</td>\n",
       "      <td>0.009178</td>\n",
       "      <td>-0.117988</td>\n",
       "    </tr>\n",
       "    <tr>\n",
       "      <th>TEMPORES2_(4.0, 70.0]</th>\n",
       "      <td>-0.040572</td>\n",
       "      <td>-0.098655</td>\n",
       "      <td>0.011876</td>\n",
       "      <td>-0.000801</td>\n",
       "      <td>-0.008759</td>\n",
       "      <td>0.066396</td>\n",
       "      <td>-0.014265</td>\n",
       "      <td>0.014888</td>\n",
       "      <td>0.033364</td>\n",
       "      <td>0.213440</td>\n",
       "      <td>0.010671</td>\n",
       "      <td>0.004612</td>\n",
       "      <td>1.000000</td>\n",
       "      <td>0.025039</td>\n",
       "      <td>-0.014546</td>\n",
       "      <td>0.011327</td>\n",
       "      <td>-0.003267</td>\n",
       "      <td>0.026682</td>\n",
       "      <td>-0.002204</td>\n",
       "      <td>-0.081545</td>\n",
       "    </tr>\n",
       "    <tr>\n",
       "      <th>CEP2_1.0</th>\n",
       "      <td>0.021214</td>\n",
       "      <td>-0.074117</td>\n",
       "      <td>0.187693</td>\n",
       "      <td>0.014837</td>\n",
       "      <td>-0.003574</td>\n",
       "      <td>-0.021822</td>\n",
       "      <td>0.011718</td>\n",
       "      <td>0.007551</td>\n",
       "      <td>0.017884</td>\n",
       "      <td>0.026099</td>\n",
       "      <td>0.042116</td>\n",
       "      <td>-0.075247</td>\n",
       "      <td>0.025039</td>\n",
       "      <td>1.000000</td>\n",
       "      <td>-0.379843</td>\n",
       "      <td>-0.005864</td>\n",
       "      <td>0.027640</td>\n",
       "      <td>-0.018497</td>\n",
       "      <td>0.020169</td>\n",
       "      <td>0.032257</td>\n",
       "    </tr>\n",
       "    <tr>\n",
       "      <th>CEP2_2.0</th>\n",
       "      <td>0.104049</td>\n",
       "      <td>-0.151077</td>\n",
       "      <td>-0.122801</td>\n",
       "      <td>0.364181</td>\n",
       "      <td>-0.035641</td>\n",
       "      <td>-0.051627</td>\n",
       "      <td>0.024863</td>\n",
       "      <td>-0.004221</td>\n",
       "      <td>-0.011346</td>\n",
       "      <td>-0.080876</td>\n",
       "      <td>-0.006333</td>\n",
       "      <td>-0.041276</td>\n",
       "      <td>-0.014546</td>\n",
       "      <td>-0.379843</td>\n",
       "      <td>1.000000</td>\n",
       "      <td>-0.004499</td>\n",
       "      <td>0.027299</td>\n",
       "      <td>-0.014010</td>\n",
       "      <td>0.009314</td>\n",
       "      <td>0.048921</td>\n",
       "    </tr>\n",
       "    <tr>\n",
       "      <th>PROFISSAO2_1.0</th>\n",
       "      <td>-0.007009</td>\n",
       "      <td>-0.010654</td>\n",
       "      <td>0.005253</td>\n",
       "      <td>-0.002167</td>\n",
       "      <td>-0.000275</td>\n",
       "      <td>0.026331</td>\n",
       "      <td>0.019284</td>\n",
       "      <td>0.006056</td>\n",
       "      <td>0.018062</td>\n",
       "      <td>-0.005044</td>\n",
       "      <td>-0.023487</td>\n",
       "      <td>0.045758</td>\n",
       "      <td>0.011327</td>\n",
       "      <td>-0.005864</td>\n",
       "      <td>-0.004499</td>\n",
       "      <td>1.000000</td>\n",
       "      <td>-0.641855</td>\n",
       "      <td>0.013753</td>\n",
       "      <td>0.002316</td>\n",
       "      <td>-0.038583</td>\n",
       "    </tr>\n",
       "    <tr>\n",
       "      <th>PROFISSAO2_2.0</th>\n",
       "      <td>0.036836</td>\n",
       "      <td>-0.002897</td>\n",
       "      <td>0.017796</td>\n",
       "      <td>0.039311</td>\n",
       "      <td>0.020920</td>\n",
       "      <td>-0.048855</td>\n",
       "      <td>0.037943</td>\n",
       "      <td>-0.010743</td>\n",
       "      <td>-0.033863</td>\n",
       "      <td>0.008179</td>\n",
       "      <td>0.022743</td>\n",
       "      <td>-0.058269</td>\n",
       "      <td>-0.003267</td>\n",
       "      <td>0.027640</td>\n",
       "      <td>0.027299</td>\n",
       "      <td>-0.641855</td>\n",
       "      <td>1.000000</td>\n",
       "      <td>0.000261</td>\n",
       "      <td>-0.010221</td>\n",
       "      <td>0.060635</td>\n",
       "    </tr>\n",
       "    <tr>\n",
       "      <th>ANONASCI2_(50.0, 63.0]</th>\n",
       "      <td>-0.045070</td>\n",
       "      <td>0.037568</td>\n",
       "      <td>0.011775</td>\n",
       "      <td>-0.027096</td>\n",
       "      <td>-0.022180</td>\n",
       "      <td>0.140392</td>\n",
       "      <td>-0.040065</td>\n",
       "      <td>0.174126</td>\n",
       "      <td>-0.047123</td>\n",
       "      <td>0.011606</td>\n",
       "      <td>0.002531</td>\n",
       "      <td>0.033674</td>\n",
       "      <td>0.026682</td>\n",
       "      <td>-0.018497</td>\n",
       "      <td>-0.014010</td>\n",
       "      <td>0.013753</td>\n",
       "      <td>0.000261</td>\n",
       "      <td>1.000000</td>\n",
       "      <td>-0.339949</td>\n",
       "      <td>-0.335418</td>\n",
       "    </tr>\n",
       "    <tr>\n",
       "      <th>ANONASCI2_(63.0, 74.0]</th>\n",
       "      <td>0.007142</td>\n",
       "      <td>0.015595</td>\n",
       "      <td>0.004329</td>\n",
       "      <td>0.007639</td>\n",
       "      <td>0.083485</td>\n",
       "      <td>-0.114738</td>\n",
       "      <td>0.021996</td>\n",
       "      <td>0.062473</td>\n",
       "      <td>-0.147904</td>\n",
       "      <td>-0.017867</td>\n",
       "      <td>-0.007655</td>\n",
       "      <td>0.009178</td>\n",
       "      <td>-0.002204</td>\n",
       "      <td>0.020169</td>\n",
       "      <td>0.009314</td>\n",
       "      <td>0.002316</td>\n",
       "      <td>-0.010221</td>\n",
       "      <td>-0.339949</td>\n",
       "      <td>1.000000</td>\n",
       "      <td>-0.318666</td>\n",
       "    </tr>\n",
       "    <tr>\n",
       "      <th>ANONASCI2_(74.0, 87.0]</th>\n",
       "      <td>0.188128</td>\n",
       "      <td>-0.088857</td>\n",
       "      <td>0.002873</td>\n",
       "      <td>0.069267</td>\n",
       "      <td>-0.036980</td>\n",
       "      <td>-0.284141</td>\n",
       "      <td>0.131850</td>\n",
       "      <td>-0.296506</td>\n",
       "      <td>-0.166653</td>\n",
       "      <td>-0.068378</td>\n",
       "      <td>0.031982</td>\n",
       "      <td>-0.117988</td>\n",
       "      <td>-0.081545</td>\n",
       "      <td>0.032257</td>\n",
       "      <td>0.048921</td>\n",
       "      <td>-0.038583</td>\n",
       "      <td>0.060635</td>\n",
       "      <td>-0.335418</td>\n",
       "      <td>-0.318666</td>\n",
       "      <td>1.000000</td>\n",
       "    </tr>\n",
       "  </tbody>\n",
       "</table>\n",
       "</div>"
      ],
      "text/plain": [
       "                               MAU  TPCLIENT_2  LOCALIZA2_1.0  LOCALIZA2_2.0  \\\n",
       "MAU                       1.000000   -0.120466      -0.001867       0.195547   \n",
       "TPCLIENT_2               -0.120466    1.000000       0.040143      -0.154698   \n",
       "LOCALIZA2_1.0            -0.001867    0.040143       1.000000      -0.503069   \n",
       "LOCALIZA2_2.0             0.195547   -0.154698      -0.503069       1.000000   \n",
       "TPEMPREG2_(32.0, 130.0]  -0.027201    0.137907      -0.006301      -0.030266   \n",
       "TPEMPREG2_(130.0, 628.0] -0.125534    0.045157       0.007765      -0.055162   \n",
       "SEXO_M                    0.068714   -0.051900       0.008748       0.008059   \n",
       "ESTCIVIL2_1.0            -0.072515    0.033545      -0.011748      -0.018965   \n",
       "ESTCIVIL2_2.0            -0.042649   -0.016819      -0.011770      -0.008074   \n",
       "SITRESID_P               -0.052699    0.034693       0.015178      -0.040230   \n",
       "LIMITE2_(31.0, 118.0]    -0.005745   -0.031620       0.022378       0.012031   \n",
       "LIMITE2_(118.0, 99865.0] -0.072320    0.231422       0.000277      -0.060034   \n",
       "TEMPORES2_(4.0, 70.0]    -0.040572   -0.098655       0.011876      -0.000801   \n",
       "CEP2_1.0                  0.021214   -0.074117       0.187693       0.014837   \n",
       "CEP2_2.0                  0.104049   -0.151077      -0.122801       0.364181   \n",
       "PROFISSAO2_1.0           -0.007009   -0.010654       0.005253      -0.002167   \n",
       "PROFISSAO2_2.0            0.036836   -0.002897       0.017796       0.039311   \n",
       "ANONASCI2_(50.0, 63.0]   -0.045070    0.037568       0.011775      -0.027096   \n",
       "ANONASCI2_(63.0, 74.0]    0.007142    0.015595       0.004329       0.007639   \n",
       "ANONASCI2_(74.0, 87.0]    0.188128   -0.088857       0.002873       0.069267   \n",
       "\n",
       "                          TPEMPREG2_(32.0, 130.0]  TPEMPREG2_(130.0, 628.0]  \\\n",
       "MAU                                     -0.027201                 -0.125534   \n",
       "TPCLIENT_2                               0.137907                  0.045157   \n",
       "LOCALIZA2_1.0                           -0.006301                  0.007765   \n",
       "LOCALIZA2_2.0                           -0.030266                 -0.055162   \n",
       "TPEMPREG2_(32.0, 130.0]                  1.000000                 -0.573090   \n",
       "TPEMPREG2_(130.0, 628.0]                -0.573090                  1.000000   \n",
       "SEXO_M                                  -0.043379                 -0.049455   \n",
       "ESTCIVIL2_1.0                            0.017040                  0.086236   \n",
       "ESTCIVIL2_2.0                           -0.019243                  0.134769   \n",
       "SITRESID_P                               0.027145                  0.061450   \n",
       "LIMITE2_(31.0, 118.0]                    0.010656                 -0.043084   \n",
       "LIMITE2_(118.0, 99865.0]                 0.014673                  0.110462   \n",
       "TEMPORES2_(4.0, 70.0]                   -0.008759                  0.066396   \n",
       "CEP2_1.0                                -0.003574                 -0.021822   \n",
       "CEP2_2.0                                -0.035641                 -0.051627   \n",
       "PROFISSAO2_1.0                          -0.000275                  0.026331   \n",
       "PROFISSAO2_2.0                           0.020920                 -0.048855   \n",
       "ANONASCI2_(50.0, 63.0]                  -0.022180                  0.140392   \n",
       "ANONASCI2_(63.0, 74.0]                   0.083485                 -0.114738   \n",
       "ANONASCI2_(74.0, 87.0]                  -0.036980                 -0.284141   \n",
       "\n",
       "                            SEXO_M  ESTCIVIL2_1.0  ESTCIVIL2_2.0  SITRESID_P  \\\n",
       "MAU                       0.068714      -0.072515      -0.042649   -0.052699   \n",
       "TPCLIENT_2               -0.051900       0.033545      -0.016819    0.034693   \n",
       "LOCALIZA2_1.0             0.008748      -0.011748      -0.011770    0.015178   \n",
       "LOCALIZA2_2.0             0.008059      -0.018965      -0.008074   -0.040230   \n",
       "TPEMPREG2_(32.0, 130.0]  -0.043379       0.017040      -0.019243    0.027145   \n",
       "TPEMPREG2_(130.0, 628.0] -0.049455       0.086236       0.134769    0.061450   \n",
       "SEXO_M                    1.000000       0.087043      -0.216470   -0.037728   \n",
       "ESTCIVIL2_1.0             0.087043       1.000000      -0.355312    0.036675   \n",
       "ESTCIVIL2_2.0            -0.216470      -0.355312       1.000000    0.027614   \n",
       "SITRESID_P               -0.037728       0.036675       0.027614    1.000000   \n",
       "LIMITE2_(31.0, 118.0]    -0.010767      -0.031464       0.015839    0.014197   \n",
       "LIMITE2_(118.0, 99865.0]  0.036045       0.071126      -0.012623    0.000722   \n",
       "TEMPORES2_(4.0, 70.0]    -0.014265       0.014888       0.033364    0.213440   \n",
       "CEP2_1.0                  0.011718       0.007551       0.017884    0.026099   \n",
       "CEP2_2.0                  0.024863      -0.004221      -0.011346   -0.080876   \n",
       "PROFISSAO2_1.0            0.019284       0.006056       0.018062   -0.005044   \n",
       "PROFISSAO2_2.0            0.037943      -0.010743      -0.033863    0.008179   \n",
       "ANONASCI2_(50.0, 63.0]   -0.040065       0.174126      -0.047123    0.011606   \n",
       "ANONASCI2_(63.0, 74.0]    0.021996       0.062473      -0.147904   -0.017867   \n",
       "ANONASCI2_(74.0, 87.0]    0.131850      -0.296506      -0.166653   -0.068378   \n",
       "\n",
       "                          LIMITE2_(31.0, 118.0]  LIMITE2_(118.0, 99865.0]  \\\n",
       "MAU                                   -0.005745                 -0.072320   \n",
       "TPCLIENT_2                            -0.031620                  0.231422   \n",
       "LOCALIZA2_1.0                          0.022378                  0.000277   \n",
       "LOCALIZA2_2.0                          0.012031                 -0.060034   \n",
       "TPEMPREG2_(32.0, 130.0]                0.010656                  0.014673   \n",
       "TPEMPREG2_(130.0, 628.0]              -0.043084                  0.110462   \n",
       "SEXO_M                                -0.010767                  0.036045   \n",
       "ESTCIVIL2_1.0                         -0.031464                  0.071126   \n",
       "ESTCIVIL2_2.0                          0.015839                 -0.012623   \n",
       "SITRESID_P                             0.014197                  0.000722   \n",
       "LIMITE2_(31.0, 118.0]                  1.000000                 -0.576195   \n",
       "LIMITE2_(118.0, 99865.0]              -0.576195                  1.000000   \n",
       "TEMPORES2_(4.0, 70.0]                  0.010671                  0.004612   \n",
       "CEP2_1.0                               0.042116                 -0.075247   \n",
       "CEP2_2.0                              -0.006333                 -0.041276   \n",
       "PROFISSAO2_1.0                        -0.023487                  0.045758   \n",
       "PROFISSAO2_2.0                         0.022743                 -0.058269   \n",
       "ANONASCI2_(50.0, 63.0]                 0.002531                  0.033674   \n",
       "ANONASCI2_(63.0, 74.0]                -0.007655                  0.009178   \n",
       "ANONASCI2_(74.0, 87.0]                 0.031982                 -0.117988   \n",
       "\n",
       "                          TEMPORES2_(4.0, 70.0]  CEP2_1.0  CEP2_2.0  \\\n",
       "MAU                                   -0.040572  0.021214  0.104049   \n",
       "TPCLIENT_2                            -0.098655 -0.074117 -0.151077   \n",
       "LOCALIZA2_1.0                          0.011876  0.187693 -0.122801   \n",
       "LOCALIZA2_2.0                         -0.000801  0.014837  0.364181   \n",
       "TPEMPREG2_(32.0, 130.0]               -0.008759 -0.003574 -0.035641   \n",
       "TPEMPREG2_(130.0, 628.0]               0.066396 -0.021822 -0.051627   \n",
       "SEXO_M                                -0.014265  0.011718  0.024863   \n",
       "ESTCIVIL2_1.0                          0.014888  0.007551 -0.004221   \n",
       "ESTCIVIL2_2.0                          0.033364  0.017884 -0.011346   \n",
       "SITRESID_P                             0.213440  0.026099 -0.080876   \n",
       "LIMITE2_(31.0, 118.0]                  0.010671  0.042116 -0.006333   \n",
       "LIMITE2_(118.0, 99865.0]               0.004612 -0.075247 -0.041276   \n",
       "TEMPORES2_(4.0, 70.0]                  1.000000  0.025039 -0.014546   \n",
       "CEP2_1.0                               0.025039  1.000000 -0.379843   \n",
       "CEP2_2.0                              -0.014546 -0.379843  1.000000   \n",
       "PROFISSAO2_1.0                         0.011327 -0.005864 -0.004499   \n",
       "PROFISSAO2_2.0                        -0.003267  0.027640  0.027299   \n",
       "ANONASCI2_(50.0, 63.0]                 0.026682 -0.018497 -0.014010   \n",
       "ANONASCI2_(63.0, 74.0]                -0.002204  0.020169  0.009314   \n",
       "ANONASCI2_(74.0, 87.0]                -0.081545  0.032257  0.048921   \n",
       "\n",
       "                          PROFISSAO2_1.0  PROFISSAO2_2.0  \\\n",
       "MAU                            -0.007009        0.036836   \n",
       "TPCLIENT_2                     -0.010654       -0.002897   \n",
       "LOCALIZA2_1.0                   0.005253        0.017796   \n",
       "LOCALIZA2_2.0                  -0.002167        0.039311   \n",
       "TPEMPREG2_(32.0, 130.0]        -0.000275        0.020920   \n",
       "TPEMPREG2_(130.0, 628.0]        0.026331       -0.048855   \n",
       "SEXO_M                          0.019284        0.037943   \n",
       "ESTCIVIL2_1.0                   0.006056       -0.010743   \n",
       "ESTCIVIL2_2.0                   0.018062       -0.033863   \n",
       "SITRESID_P                     -0.005044        0.008179   \n",
       "LIMITE2_(31.0, 118.0]          -0.023487        0.022743   \n",
       "LIMITE2_(118.0, 99865.0]        0.045758       -0.058269   \n",
       "TEMPORES2_(4.0, 70.0]           0.011327       -0.003267   \n",
       "CEP2_1.0                       -0.005864        0.027640   \n",
       "CEP2_2.0                       -0.004499        0.027299   \n",
       "PROFISSAO2_1.0                  1.000000       -0.641855   \n",
       "PROFISSAO2_2.0                 -0.641855        1.000000   \n",
       "ANONASCI2_(50.0, 63.0]          0.013753        0.000261   \n",
       "ANONASCI2_(63.0, 74.0]          0.002316       -0.010221   \n",
       "ANONASCI2_(74.0, 87.0]         -0.038583        0.060635   \n",
       "\n",
       "                          ANONASCI2_(50.0, 63.0]  ANONASCI2_(63.0, 74.0]  \\\n",
       "MAU                                    -0.045070                0.007142   \n",
       "TPCLIENT_2                              0.037568                0.015595   \n",
       "LOCALIZA2_1.0                           0.011775                0.004329   \n",
       "LOCALIZA2_2.0                          -0.027096                0.007639   \n",
       "TPEMPREG2_(32.0, 130.0]                -0.022180                0.083485   \n",
       "TPEMPREG2_(130.0, 628.0]                0.140392               -0.114738   \n",
       "SEXO_M                                 -0.040065                0.021996   \n",
       "ESTCIVIL2_1.0                           0.174126                0.062473   \n",
       "ESTCIVIL2_2.0                          -0.047123               -0.147904   \n",
       "SITRESID_P                              0.011606               -0.017867   \n",
       "LIMITE2_(31.0, 118.0]                   0.002531               -0.007655   \n",
       "LIMITE2_(118.0, 99865.0]                0.033674                0.009178   \n",
       "TEMPORES2_(4.0, 70.0]                   0.026682               -0.002204   \n",
       "CEP2_1.0                               -0.018497                0.020169   \n",
       "CEP2_2.0                               -0.014010                0.009314   \n",
       "PROFISSAO2_1.0                          0.013753                0.002316   \n",
       "PROFISSAO2_2.0                          0.000261               -0.010221   \n",
       "ANONASCI2_(50.0, 63.0]                  1.000000               -0.339949   \n",
       "ANONASCI2_(63.0, 74.0]                 -0.339949                1.000000   \n",
       "ANONASCI2_(74.0, 87.0]                 -0.335418               -0.318666   \n",
       "\n",
       "                          ANONASCI2_(74.0, 87.0]  \n",
       "MAU                                     0.188128  \n",
       "TPCLIENT_2                             -0.088857  \n",
       "LOCALIZA2_1.0                           0.002873  \n",
       "LOCALIZA2_2.0                           0.069267  \n",
       "TPEMPREG2_(32.0, 130.0]                -0.036980  \n",
       "TPEMPREG2_(130.0, 628.0]               -0.284141  \n",
       "SEXO_M                                  0.131850  \n",
       "ESTCIVIL2_1.0                          -0.296506  \n",
       "ESTCIVIL2_2.0                          -0.166653  \n",
       "SITRESID_P                             -0.068378  \n",
       "LIMITE2_(31.0, 118.0]                   0.031982  \n",
       "LIMITE2_(118.0, 99865.0]               -0.117988  \n",
       "TEMPORES2_(4.0, 70.0]                  -0.081545  \n",
       "CEP2_1.0                                0.032257  \n",
       "CEP2_2.0                                0.048921  \n",
       "PROFISSAO2_1.0                         -0.038583  \n",
       "PROFISSAO2_2.0                          0.060635  \n",
       "ANONASCI2_(50.0, 63.0]                 -0.335418  \n",
       "ANONASCI2_(63.0, 74.0]                 -0.318666  \n",
       "ANONASCI2_(74.0, 87.0]                  1.000000  "
      ]
     },
     "execution_count": 283,
     "metadata": {},
     "output_type": "execute_result"
    }
   ],
   "source": [
    "pd.get_dummies( dados_final , drop_first=True).corr()"
   ]
  },
  {
   "cell_type": "markdown",
   "id": "9cdc92c4-d404-4eeb-b357-4cbc86c7fd8e",
   "metadata": {},
   "source": [
    "Como não há nenhuma variavel altamente correlacionada com alguma outra no banco de dados, optou-se por não realizar a exclusão de nennhuma dessas variáveis por esse motivo."
   ]
  },
  {
   "cell_type": "code",
   "execution_count": 287,
   "id": "3044b500-c97e-4c67-b0de-dec04b978f26",
   "metadata": {},
   "outputs": [],
   "source": [
    "dados_final.to_csv(\"base_tratada.csv\" , index=False)"
   ]
  }
 ],
 "metadata": {
  "kernelspec": {
   "display_name": "Python 3 (ipykernel)",
   "language": "python",
   "name": "python3"
  },
  "language_info": {
   "codemirror_mode": {
    "name": "ipython",
    "version": 3
   },
   "file_extension": ".py",
   "mimetype": "text/x-python",
   "name": "python",
   "nbconvert_exporter": "python",
   "pygments_lexer": "ipython3",
   "version": "3.9.16"
  }
 },
 "nbformat": 4,
 "nbformat_minor": 5
}
