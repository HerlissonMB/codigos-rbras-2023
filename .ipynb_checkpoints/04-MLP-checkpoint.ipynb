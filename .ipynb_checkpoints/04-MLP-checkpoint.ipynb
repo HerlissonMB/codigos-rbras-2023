{
 "cells": [
  {
   "cell_type": "markdown",
   "id": "0527d500-1b60-459e-aa94-f989a26ac7f4",
   "metadata": {},
   "source": [
    "### Ajuste da rede MLP - com tunning de hiperparâmetros utilizando otimização bayesiana"
   ]
  },
  {
   "cell_type": "code",
   "execution_count": 1,
   "id": "7033058f-ec61-467c-8a9c-e56023b19882",
   "metadata": {},
   "outputs": [],
   "source": [
    "import pandas as pd\n",
    "import numpy as np\n",
    "import matplotlib.pyplot as plt\n",
    "#import seaborn as sns\n",
    "from sklearn.neural_network import MLPClassifier\n",
    "from sklearn.metrics import roc_auc_score, matthews_corrcoef\n",
    "from sklearn.model_selection import cross_val_score\n",
    "from sklearn.base import BaseEstimator, ClassifierMixin"
   ]
  },
  {
   "cell_type": "code",
   "execution_count": 2,
   "id": "bb6827a8-d6d9-43c1-8974-e9ea42892909",
   "metadata": {
    "tags": []
   },
   "outputs": [],
   "source": [
    "from skopt import gp_minimize, BayesSearchCV\n",
    "from skopt.space import Real, Integer,Categorical\n",
    "from skopt.utils import use_named_args"
   ]
  },
  {
   "cell_type": "code",
   "execution_count": 3,
   "id": "738c687a-81c6-4eab-9789-73c3c6ebbce2",
   "metadata": {},
   "outputs": [],
   "source": [
    "from scipy.stats import ks_2samp"
   ]
  },
  {
   "cell_type": "code",
   "execution_count": 4,
   "id": "1fe710a1-3081-486b-8b74-34bec3403187",
   "metadata": {
    "tags": []
   },
   "outputs": [],
   "source": [
    "import warnings\n",
    "warnings.filterwarnings('ignore')"
   ]
  },
  {
   "cell_type": "code",
   "execution_count": 5,
   "id": "86c7d73a-235e-4702-8def-8676f36f9f54",
   "metadata": {},
   "outputs": [],
   "source": [
    "base_treino = pd.read_csv('base_treino.csv')"
   ]
  },
  {
   "cell_type": "code",
   "execution_count": 6,
   "id": "3ffbe51e-bd72-4dfb-9c4b-7b538610ecfa",
   "metadata": {},
   "outputs": [],
   "source": [
    "X_treino = base_treino.iloc[:,:-1]\n",
    "y_treino = base_treino['MAU']"
   ]
  },
  {
   "cell_type": "code",
   "execution_count": 7,
   "id": "a31f5516-4322-4f09-8ec9-884a8c91b4fb",
   "metadata": {
    "tags": []
   },
   "outputs": [],
   "source": [
    "#Espaço de busca dos hiperparametros\n",
    "param_space = {\n",
    "    'activation': ['relu', 'logistic','tanh'],\n",
    "    'solver': ['adam', 'lbfgs'],\n",
    "    'alpha': (1e-4, 1e-1, 'log-uniform'),\n",
    "    'learning_rate': ['constant', 'adaptive'],\n",
    "}"
   ]
  },
  {
   "cell_type": "markdown",
   "id": "25fb4329-472e-4136-9ed5-5cc9057a60e2",
   "metadata": {},
   "source": [
    "A função BayesSearchCV não aceita como parâmetro as tuplas que descrevem as camadas de neurônios da rede MLP no pacote scikit-learn. Dessa forma, uma alternativa é criar um laço variando os neurônios e deixar o otimizador bayesiano trabalhar em cada configuração otimizando os restante dos parâmetros, como abaixo:"
   ]
  },
  {
   "cell_type": "code",
   "execution_count": 8,
   "id": "cf87ecd0-d827-4169-b6b5-acfb8c291191",
   "metadata": {
    "tags": []
   },
   "outputs": [
    {
     "name": "stdout",
     "output_type": "stream",
     "text": [
      "Qtd neurônios: 8\n",
      "Melhor estimador:MLPClassifier(activation='tanh', alpha=0.09838436736084676,\n",
      "              hidden_layer_sizes=8, learning_rate='adaptive', random_state=42)\n",
      "Melhor AUC:0.6756\n",
      "\n",
      "Qtd neurônios: 10\n",
      "Melhor estimador:MLPClassifier(activation='tanh', alpha=0.09916570116754046,\n",
      "              hidden_layer_sizes=10, learning_rate='adaptive', random_state=42)\n",
      "Melhor AUC:0.6758\n",
      "\n",
      "Qtd neurônios: 20\n",
      "Melhor estimador:MLPClassifier(activation='logistic', alpha=0.1, hidden_layer_sizes=20,\n",
      "              learning_rate='adaptive', random_state=42)\n",
      "Melhor AUC:0.6765\n",
      "\n",
      "Qtd neurônios: (8, 8)\n",
      "Melhor estimador:MLPClassifier(activation='logistic', hidden_layer_sizes=(8, 8),\n",
      "              learning_rate='adaptive', random_state=42)\n",
      "Melhor AUC:0.6762\n",
      "\n",
      "Qtd neurônios: (10, 10)\n",
      "Melhor estimador:MLPClassifier(activation='logistic', alpha=0.0022044857650599537,\n",
      "              hidden_layer_sizes=(10, 10), learning_rate='adaptive',\n",
      "              random_state=42)\n",
      "Melhor AUC:0.6766\n",
      "\n",
      "Qtd neurônios: (20, 20)\n",
      "Melhor estimador:MLPClassifier(activation='logistic', alpha=0.028411231508773168,\n",
      "              hidden_layer_sizes=(20, 20), random_state=42)\n",
      "Melhor AUC:0.6768\n",
      "\n",
      "Qtd neurônios: (8, 8, 8)\n",
      "Melhor estimador:MLPClassifier(activation='logistic', alpha=0.028411231508773168,\n",
      "              hidden_layer_sizes=(8, 8, 8), random_state=42)\n",
      "Melhor AUC:0.6764\n",
      "\n",
      "Qtd neurônios: (10, 10, 10)\n",
      "Melhor estimador:MLPClassifier(activation='logistic', alpha=0.005900725975532204,\n",
      "              hidden_layer_sizes=(10, 10, 10), random_state=42)\n",
      "Melhor AUC:0.6760\n",
      "\n",
      "Qtd neurônios: (20, 20, 20)\n",
      "Melhor estimador:MLPClassifier(activation='logistic', alpha=0.028411231508773168,\n",
      "              hidden_layer_sizes=(20, 20, 20), random_state=42)\n",
      "Melhor AUC:0.6768\n",
      "\n",
      "CPU times: total: 35min 9s\n",
      "Wall time: 9min 4s\n"
     ]
    }
   ],
   "source": [
    "%%time\n",
    "neuronios = [8,10,20,(8,8),(10,10),(20,20),(8,8,8),(10,10,10),(20,20,20)]\n",
    "for i in neuronios:\n",
    "    mlp = MLPClassifier(max_iter=200 , hidden_layer_sizes=i, random_state=42)\n",
    "    \n",
    "    # Realizar a busca bayesiana dos melhores parâmetros\n",
    "    search = BayesSearchCV(mlp, param_space, n_iter=20, cv=5, random_state=42,scoring='roc_auc')\n",
    "    search.fit(X_treino, y_treino)\n",
    "    \n",
    "    print(f'Qtd neurônios: {i}')\n",
    "    print(f'Melhor estimador:{search.best_estimator_}')\n",
    "    print(f'Melhor AUC:{search.best_score_:.4f}\\n')\n"
   ]
  },
  {
   "cell_type": "code",
   "execution_count": null,
   "id": "896164be-24be-4885-a198-94a31b373166",
   "metadata": {},
   "outputs": [],
   "source": []
  },
  {
   "cell_type": "markdown",
   "id": "0e194a96-eb43-4229-bef0-d28219b60d5f",
   "metadata": {},
   "source": [
    "Como a melhor simulação de hiperparâmetros foi com 2 camadas de 20 neurônios, vamos fazer a busca de novo com essa configuração deixando o otimizador poder realizar mais iterações pra ver se melhoramos as metricas de avaliação."
   ]
  },
  {
   "cell_type": "code",
   "execution_count": 9,
   "id": "04a656ee-3602-4060-831a-a54d20266977",
   "metadata": {
    "tags": []
   },
   "outputs": [
    {
     "name": "stdout",
     "output_type": "stream",
     "text": [
      "Qtd neurônios: (20, 20, 20)\n",
      "Melhor estimador:MLPClassifier(activation='logistic', alpha=0.028411231508773168,\n",
      "              hidden_layer_sizes=(20, 20), random_state=42)\n",
      "Melhor AUC:0.6768\n",
      "\n"
     ]
    }
   ],
   "source": [
    "mlp = MLPClassifier(max_iter=200,hidden_layer_sizes=(20,20), random_state=42)\n",
    "\n",
    "# Realizar a busca bayesiana dos melhores parâmetros\n",
    "search = BayesSearchCV(mlp, param_space, n_iter=25, cv=5, random_state=42,scoring='roc_auc')\n",
    "search.fit(X_treino, y_treino)\n",
    "\n",
    "print(f'Qtd neurônios: {i}')\n",
    "print(f'Melhor estimador:{search.best_estimator_}')\n",
    "print(f'Melhor AUC:{search.best_score_:.4f}\\n')"
   ]
  },
  {
   "cell_type": "code",
   "execution_count": null,
   "id": "f3ce6e6e-429e-4d66-be50-68a28fdeaf1f",
   "metadata": {},
   "outputs": [],
   "source": []
  },
  {
   "cell_type": "code",
   "execution_count": 10,
   "id": "93597fa7-11c9-4e0e-a532-79b733290a74",
   "metadata": {
    "tags": []
   },
   "outputs": [],
   "source": [
    "MLP_best = search.best_estimator_"
   ]
  },
  {
   "cell_type": "markdown",
   "id": "dd4e84cd-a1e4-44e9-8978-e52b12e9373b",
   "metadata": {},
   "source": [
    "Lendo o arquivo de teste para cálculo das métricas de avaliação"
   ]
  },
  {
   "cell_type": "code",
   "execution_count": 11,
   "id": "f8a96c11-0fbe-4ff6-ba89-e34970f28401",
   "metadata": {},
   "outputs": [],
   "source": [
    "base_teste = pd.read_csv('base_teste.csv')"
   ]
  },
  {
   "cell_type": "code",
   "execution_count": 12,
   "id": "c1483dac-5d19-4808-9a34-10613ee25afd",
   "metadata": {},
   "outputs": [],
   "source": [
    "X_teste = base_teste.iloc[:,:-1]\n",
    "y_teste = base_teste['MAU']"
   ]
  },
  {
   "cell_type": "code",
   "execution_count": 13,
   "id": "fd6b117a-5b3d-45e0-85aa-d7887c98a02e",
   "metadata": {},
   "outputs": [],
   "source": [
    "y_preds = MLP_best.predict_proba(X_teste)[:,1]"
   ]
  },
  {
   "cell_type": "code",
   "execution_count": 14,
   "id": "3a74c1bd-551c-43e7-9d39-6b73575ddaef",
   "metadata": {},
   "outputs": [
    {
     "data": {
      "text/plain": [
       "0.700668225094945"
      ]
     },
     "execution_count": 14,
     "metadata": {},
     "output_type": "execute_result"
    }
   ],
   "source": [
    "roc_auc_score(y_teste , y_preds)"
   ]
  },
  {
   "cell_type": "code",
   "execution_count": 15,
   "id": "929779cd-e824-4ceb-9001-d185c15e2627",
   "metadata": {},
   "outputs": [],
   "source": [
    "y_preds_bin = pd.Series(y_preds).apply(lambda x: 1 if x> 0.34 else 0)"
   ]
  },
  {
   "cell_type": "code",
   "execution_count": 16,
   "id": "853a32a8-5765-44cd-befc-4374b3fcf68a",
   "metadata": {},
   "outputs": [
    {
     "data": {
      "text/plain": [
       "0.2834470398388893"
      ]
     },
     "execution_count": 16,
     "metadata": {},
     "output_type": "execute_result"
    }
   ],
   "source": [
    "matthews_corrcoef( base_teste['MAU'],  y_preds_bin )"
   ]
  },
  {
   "cell_type": "code",
   "execution_count": 17,
   "id": "fa54eda5-2d9c-4e13-a400-a3121ebb71be",
   "metadata": {},
   "outputs": [
    {
     "data": {
      "text/plain": [
       "KstestResult(statistic=0.2951764088354318, pvalue=1.1530218413537098e-35, statistic_location=0.269688335481985, statistic_sign=1)"
      ]
     },
     "execution_count": 17,
     "metadata": {},
     "output_type": "execute_result"
    }
   ],
   "source": [
    "ks_2samp(y_preds[y_teste ==0],y_preds[y_teste ==1])"
   ]
  },
  {
   "cell_type": "code",
   "execution_count": null,
   "id": "f9e2e45c-a893-4e30-aafd-6b20c6601e8f",
   "metadata": {},
   "outputs": [],
   "source": []
  }
 ],
 "metadata": {
  "kernelspec": {
   "display_name": "Python 3 (ipykernel)",
   "language": "python",
   "name": "python3"
  },
  "language_info": {
   "codemirror_mode": {
    "name": "ipython",
    "version": 3
   },
   "file_extension": ".py",
   "mimetype": "text/x-python",
   "name": "python",
   "nbconvert_exporter": "python",
   "pygments_lexer": "ipython3",
   "version": "3.9.16"
  }
 },
 "nbformat": 4,
 "nbformat_minor": 5
}
