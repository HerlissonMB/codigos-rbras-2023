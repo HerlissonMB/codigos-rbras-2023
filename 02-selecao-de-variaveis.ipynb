{
 "cells": [
  {
   "cell_type": "code",
   "execution_count": 1,
   "id": "2c1fee27-ba2e-472f-a474-6e5698b40669",
   "metadata": {},
   "outputs": [],
   "source": [
    "import numpy as np\n",
    "import pandas as pd\n",
    "import seaborn as sns"
   ]
  },
  {
   "cell_type": "code",
   "execution_count": 29,
   "id": "2a5b6dec-c7c1-4a61-b2d1-48dc6c884018",
   "metadata": {},
   "outputs": [],
   "source": [
    "from sklearn.ensemble import RandomForestClassifier\n",
    "from sklearn.feature_selection import RFE\n",
    "from sklearn.model_selection import train_test_split\n",
    "from sklearn.metrics import roc_auc_score"
   ]
  },
  {
   "cell_type": "code",
   "execution_count": 2,
   "id": "ae439e4a-f84e-4db5-98da-58dfe210744f",
   "metadata": {},
   "outputs": [],
   "source": [
    "dados = pd.read_csv(\"base_tratada.csv\")"
   ]
  },
  {
   "cell_type": "code",
   "execution_count": 5,
   "id": "39b67707-edea-4a18-a9fc-eae2c9873e97",
   "metadata": {},
   "outputs": [
    {
     "data": {
      "text/plain": [
       "MAU                         0\n",
       "TPCLIENT_2                  0\n",
       "LOCALIZA2_1.0               0\n",
       "LOCALIZA2_2.0               0\n",
       "TPEMPREG2_(32.0, 130.0]     0\n",
       "TPEMPREG2_(130.0, 628.0]    0\n",
       "SEXO_M                      0\n",
       "ESTCIVIL2_1.0               0\n",
       "ESTCIVIL2_2.0               0\n",
       "SITRESID_P                  0\n",
       "LIMITE2_(31.0, 118.0]       0\n",
       "LIMITE2_(118.0, 99865.0]    0\n",
       "TEMPORES2_(4.0, 70.0]       0\n",
       "CEP2_1.0                    0\n",
       "CEP2_2.0                    0\n",
       "PROFISSAO2_1.0              0\n",
       "PROFISSAO2_2.0              0\n",
       "ANONASCI2_(50.0, 63.0]      0\n",
       "ANONASCI2_(63.0, 74.0]      0\n",
       "ANONASCI2_(74.0, 87.0]      0\n",
       "dtype: int64"
      ]
     },
     "execution_count": 5,
     "metadata": {},
     "output_type": "execute_result"
    }
   ],
   "source": [
    "dados.isna().sum()"
   ]
  },
  {
   "cell_type": "markdown",
   "id": "24101b56-895f-491c-be86-63b09b120cbd",
   "metadata": {},
   "source": [
    "Não temos missing na base."
   ]
  },
  {
   "cell_type": "code",
   "execution_count": null,
   "id": "a97acd46-fb37-43b9-a8d3-62babce91a14",
   "metadata": {},
   "outputs": [],
   "source": []
  },
  {
   "cell_type": "markdown",
   "id": "28eab07a-d13a-41c2-85cd-5eb0ba258f88",
   "metadata": {},
   "source": [
    "---\n",
    "Seleção das variáveis mais importantes utilizando um wrapper RFE ( Random Recursive Elimination) baseado em Random Forest."
   ]
  },
  {
   "cell_type": "code",
   "execution_count": 9,
   "id": "e31d3b34-e536-4537-b604-a54a5bfc6458",
   "metadata": {},
   "outputs": [],
   "source": [
    "X = dados.iloc[:,1:]\n",
    "y = dados['MAU']"
   ]
  },
  {
   "cell_type": "code",
   "execution_count": 78,
   "id": "1f29caa4-fc54-4ebd-a1c7-723bc74b96e2",
   "metadata": {},
   "outputs": [],
   "source": [
    "RF = RandomForestClassifier(min_samples_leaf = 700, random_state=42)"
   ]
  },
  {
   "cell_type": "code",
   "execution_count": 95,
   "id": "229f4fc2-9622-43bd-b78e-3b8958cd371d",
   "metadata": {},
   "outputs": [],
   "source": [
    "wrapper_selector = RFE(RF, n_features_to_select=10, step=1)\n",
    "wrapper_selector = wrapper_selector.fit(X, y)"
   ]
  },
  {
   "cell_type": "code",
   "execution_count": 96,
   "id": "0e478fc9-7ea9-42a3-9374-b13a4fb21cd5",
   "metadata": {},
   "outputs": [
    {
     "data": {
      "text/plain": [
       "array([ True,  True,  True,  True,  True,  True,  True, False, False,\n",
       "       False,  True, False, False,  True, False, False, False, False,\n",
       "        True])"
      ]
     },
     "execution_count": 96,
     "metadata": {},
     "output_type": "execute_result"
    }
   ],
   "source": [
    "wrapper_selector.support_"
   ]
  },
  {
   "cell_type": "code",
   "execution_count": 97,
   "id": "f9d980cf-6cb8-404f-97f3-34606e0659be",
   "metadata": {},
   "outputs": [
    {
     "data": {
      "text/plain": [
       "array([ 1,  1,  1,  1,  1,  1,  1, 10,  9,  6,  1,  5,  2,  1,  7,  8,  4,\n",
       "        3,  1])"
      ]
     },
     "execution_count": 97,
     "metadata": {},
     "output_type": "execute_result"
    }
   ],
   "source": [
    "wrapper_selector.ranking_"
   ]
  },
  {
   "cell_type": "code",
   "execution_count": 98,
   "id": "e806664f-8f68-44f3-a763-67fd3a7eb909",
   "metadata": {},
   "outputs": [
    {
     "data": {
      "text/plain": [
       "Index(['TPCLIENT_2', 'LOCALIZA2_1.0', 'LOCALIZA2_2.0',\n",
       "       'TPEMPREG2_(32.0, 130.0]', 'TPEMPREG2_(130.0, 628.0]', 'SEXO_M',\n",
       "       'ESTCIVIL2_1.0', 'LIMITE2_(118.0, 99865.0]', 'CEP2_2.0',\n",
       "       'ANONASCI2_(74.0, 87.0]'],\n",
       "      dtype='object')"
      ]
     },
     "execution_count": 98,
     "metadata": {},
     "output_type": "execute_result"
    }
   ],
   "source": [
    "X.columns[wrapper_selector.support_]"
   ]
  },
  {
   "cell_type": "code",
   "execution_count": 99,
   "id": "31356c4a-1f62-4945-aacc-ba47d2a0f43e",
   "metadata": {},
   "outputs": [],
   "source": [
    "cols_finais = X.columns[wrapper_selector.support_]"
   ]
  },
  {
   "cell_type": "markdown",
   "id": "f1c9a8d4-6a56-4acb-a56d-7a25602df18c",
   "metadata": {},
   "source": [
    "---\n",
    "Divisão da base tratada e com as variáveis selecionadas pelo RFE em 70% treino e 30% teste. Salvando os arquivos de treino e teste."
   ]
  },
  {
   "cell_type": "code",
   "execution_count": 100,
   "id": "36f0adaa-2b62-4568-ad70-8219e0ca45d8",
   "metadata": {},
   "outputs": [],
   "source": [
    "X_train, X_test, y_train, y_test = train_test_split(X, y , test_size=0.3 , random_state=42)"
   ]
  },
  {
   "cell_type": "code",
   "execution_count": 101,
   "id": "44b33b85-8559-4972-acc7-6985c4749b89",
   "metadata": {},
   "outputs": [],
   "source": [
    "pd.concat([X_train[cols_finais],y_train] , axis = 1).to_csv('base_treino.csv' , index=False)"
   ]
  },
  {
   "cell_type": "code",
   "execution_count": 102,
   "id": "b8195aca-cd6c-460d-b3e4-0c3bcb88a1ff",
   "metadata": {},
   "outputs": [],
   "source": [
    "pd.concat([X_test[cols_finais],y_test] , axis = 1).to_csv('base_teste.csv' , index=False)"
   ]
  },
  {
   "cell_type": "markdown",
   "id": "8f77217d-cdc6-45ac-9a98-5a4c9d30ce9a",
   "metadata": {},
   "source": [
    "OBS: tentar ver se um filtro por tau de kendall geraria o mesmo conjunto de features"
   ]
  }
 ],
 "metadata": {
  "kernelspec": {
   "display_name": "Python 3 (ipykernel)",
   "language": "python",
   "name": "python3"
  },
  "language_info": {
   "codemirror_mode": {
    "name": "ipython",
    "version": 3
   },
   "file_extension": ".py",
   "mimetype": "text/x-python",
   "name": "python",
   "nbconvert_exporter": "python",
   "pygments_lexer": "ipython3",
   "version": "3.10.12"
  }
 },
 "nbformat": 4,
 "nbformat_minor": 5
}
